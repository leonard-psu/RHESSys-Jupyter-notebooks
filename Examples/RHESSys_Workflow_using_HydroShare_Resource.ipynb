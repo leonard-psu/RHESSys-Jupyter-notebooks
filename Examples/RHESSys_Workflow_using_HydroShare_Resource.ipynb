{
 "cells": [
  {
   "cell_type": "markdown",
   "metadata": {},
   "source": [
    "# RHESSys Workflow Using HydroShare Resource\n",
    "\n",
    "RHESSysWorkflows provides a series of Python tools for performing [RHESSys](https://github.com/RHESSys/RHESSys) data preparation workflows. These tools build on the workflow system defined by [EcohydroLib](https://github.com/selimnairb/EcohydroLib) and [RHESSysWorkflows](https://github.com/selimnairb/RHESSysWorkflows).\n",
    "\n",
    "\n",
    "**Note:** Users interested in seeing step outputs, remove **output = ** from the command line. Some output steps have been hidden, as the output lengths can be long. <br>\n",
    "<br>\n",
    "<br>\n",
    "\n",
    "This cell imports the necessary python libraries for the notebook "
   ]
  },
  {
   "cell_type": "code",
   "execution_count": null,
   "metadata": {
    "collapsed": true
   },
   "outputs": [],
   "source": [
    "import os\n",
    "import logging\n",
    "from utilities import hydroshare\n",
    "import shutil\n",
    "from utilities.rhessys import *\n",
    "%matplotlib inline\n",
    "\n",
    "print 'Finished Step'"
   ]
  },
  {
   "cell_type": "markdown",
   "metadata": {},
   "source": [
    "The **`RHESSysWorkflow`** class is provided as part of the `rhessys` library (imported above) to streamline your interaction with the `RHESSysWorkflows` [core functions](https://github.com/selimnairb/RHESSysWorkflows).\n",
    " <br>\n",
    "\n",
    "Create an instance of the `RHESSysWorkflow` class and assign it to the variable `w`. <br>\n",
    "This command will create a directory for the given **project name** of `my_workflow` in the JupyterHub's default data directory. **If the directory exists, you will be prompted to use, or overwrite.** <br>\n",
    "This notebook, a custom gage is used for **gageid**. <br>\n",
    "A start date of **1937-01-02**, and an end date of **1937-01-03**.  "
   ]
  },
  {
   "cell_type": "code",
   "execution_count": null,
   "metadata": {
    "collapsed": false
   },
   "outputs": [],
   "source": [
    "w = RHESSysWorkflow(project_name='my_workflow', \n",
    "                    gageid='custom',\n",
    "                    start_date='1937-01-02',\n",
    "                    end_date='1937-01-03'\n",
    "                    )\n",
    "\n",
    "print 'Finished Step'"
   ]
  },
  {
   "cell_type": "markdown",
   "metadata": {},
   "source": [
    "The RHESSysWorkflow class uses a logging library to document output and errors. We can display these messages in our notebook by attaching to the logger and redirecting the output to stdout. While this step is not necessary, it will provide us with more verbose output."
   ]
  },
  {
   "cell_type": "code",
   "execution_count": null,
   "metadata": {
    "collapsed": false
   },
   "outputs": [],
   "source": [
    "# Get root logger for RHESSysWorkflow and set the output to stdout\n",
    "root_logger = logging.getLogger()\n",
    "root_logger.addHandler(logging.StreamHandler(sys.stdout))\n",
    "\n",
    "print 'Finished Step'"
   ]
  },
  {
   "cell_type": "markdown",
   "metadata": {},
   "source": [
    "## Retrieve data from HydroShare Resource\n",
    "\n",
    "The first step to retrieve a resource from HydroShare is to create a connection as follows: <br>\n",
    "**Note** you may be required to enter your credentials."
   ]
  },
  {
   "cell_type": "code",
   "execution_count": null,
   "metadata": {
    "collapsed": false
   },
   "outputs": [],
   "source": [
    "hs = hydroshare.hydroshare()\n",
    "\n",
    "print 'Finished Step'"
   ]
  },
  {
   "cell_type": "markdown",
   "metadata": {},
   "source": [
    "The UNC Institute for the Environment has prepared a HydroShare Resource for **Coweeta, NC** [(RHESSys (5.20) watershed 18, Coweeta, NC)](https://www.hydroshare.org/resource/c397f68fbc9847d6a717b0a2c2fe7671/) \n",
    "<br>\n",
    "US Forest Service WS18 is a 12.3ha, mixed hardwood-oak, control catchment that’s been undisturbed since 1927.\n",
    "<br>\n",
    "\n",
    "If you follow the web link, or move your mouse cursor over the above web link, you will note the web link has nas numbers and text after **https://www.hydroshare.org/resource/**. This text string is a **resource-id**. Here the resource id is **c397f68fbc9847d6a717b0a2c2fe7671** and is needed to retrieve the resource from HydroShare. <br>\n",
    "<br>\n",
    "**Note:**  <br>\n",
    "[1] If you use are using this notebook as a template for another **resource-id**, cells below, marked with &#9971; ,indicate where users will need to modify the cell to work with their data.  <br>\n",
    "[2] If you have used this **resource-id** before in your userspace, you will be prompted to overwrite this data. <br>\n",
    "\n"
   ]
  },
  {
   "cell_type": "code",
   "execution_count": null,
   "metadata": {
    "collapsed": false
   },
   "outputs": [],
   "source": [
    "resource_id = 'c397f68fbc9847d6a717b0a2c2fe7671'\n",
    "content = hs.getResourceFromHydroShare(resource_id)\n",
    "\n",
    "print 'Finished Step'"
   ]
  },
  {
   "cell_type": "markdown",
   "metadata": {},
   "source": [
    "\n",
    "\n",
    "After the resource has finished downloading, the next step is to unzip the folder in your workspace. <br>\n",
    "We know the name of the zipped file `ws18.zip` from the above step. <br>\n",
    "\n",
    "&#9971; If you are using a different resource, you will be required to change the **hs.content['ws18.zip']**, line below. <br>\n",
    "Here, a new folder called `RHESSys_ETV` is created in the **workspace folder** created by the **RHESSysWorkflow object** to keep the data in a separate location from the following steps. The **zipname** variable, is the name defined in hs.content[\"MY_FILE\"]. \n"
   ]
  },
  {
   "cell_type": "code",
   "execution_count": null,
   "metadata": {
    "collapsed": false
   },
   "outputs": [],
   "source": [
    "#########################################################\n",
    "## Variables used in cells below\n",
    "zipfolder = w.sub_project_folder + '/RHESSys_ETV'\n",
    "zipname = 'ws18'\n",
    "\n",
    "#########################################################\n",
    "## Commands\n",
    "## Create Folder\n",
    "w.create_path(zipfolder)\n",
    "## name of zip file and path\n",
    "zipfilepathname = hs.content[zipname + '.zip']\n",
    "## Unzip the file\n",
    "w.unzip_etv_zip_file_at_path(zipfilepathname, zipfolder)\n",
    "\n",
    "print 'Finished Step'"
   ]
  },
  {
   "cell_type": "markdown",
   "metadata": {},
   "source": [
    "## Register DEM\n",
    "\n",
    "The **os.environ[\"GDAL_DATA\"]** indicates to PYTHON where the GDAL installation is. If you have compiled GDAL (i.e. for specialized libraries) in your environment, change this value.\n",
    "<br/><br/>\n",
    "\n",
    "**RegisterDEM** will result in the DEM being copied to your project directory, and the DEM spatial resolution will determine the default spatial resolution of your project (i.e. other rasters imported to your project will by default be resampled to the match the DEM resolution and spatial reference). Also, the DEM extent will be used to determine the bounding box for the study area; a polygon of the DEM extent will be generated and saved as a shapefile in your project directory.\n",
    "<br/><br/>\n",
    "&#9971; **Note: ** Change the `dem_name` variable below to match the DEM within your resource.\n"
   ]
  },
  {
   "cell_type": "code",
   "execution_count": null,
   "metadata": {
    "collapsed": false
   },
   "outputs": [],
   "source": [
    "#########################################################\n",
    "## Variables\n",
    "## Note dependency of variables [zipfolder, zipname] defined above \n",
    "\n",
    "os.environ[\"GDAL_DATA\"] = \"/opt/conda/share/gdal\"\n",
    "dem_name = 'DEM.tif'\n",
    "\n",
    "demfile = zipfolder + '/' + zipname + '/' + dem_name\n",
    "options = \" -p \" + w.sub_project_folder + \" -d \" + demfile + \" -b \\\"DEM\\\"\"\n",
    "\n",
    "#########################################################\n",
    "## Commands\n",
    "w.RegisterDEM(w.sub_project_folder, demfile)\n",
    "\n",
    "print 'Finished Step'"
   ]
  },
  {
   "cell_type": "markdown",
   "metadata": {},
   "source": [
    "## Register Gage\n",
    "We will use the **RegisterGage** tool to tell EcohydroLib the coordinates of the streamflow gage. This tool takes as input a point shapefile containing one or more points; the WGS84 lat-lon coordinates for the desired gage will be extracted from the shapefile. These coordinates will be written to the metadata store, and a new point shapefile containing a point only for the selected gage will be created in the project directory. <br/><br/>\n",
    "You will need to determine the **shape field** with the **id_attribute**. You can use GIS products from GDAL, ESRI, QGIS to determine these values.\n",
    "<br/>\n",
    "**Register streamflow gage** coordinates from a point shapefile into metadata store for a project directory, copying the shapefile into the project directory in the process <br/>\n",
    "<br/> <br/>\n",
    "&#9971; **Note: ** Change the `gage_name` variable below to match the gage shapefile within your resource.\n",
    "\n"
   ]
  },
  {
   "cell_type": "code",
   "execution_count": null,
   "metadata": {
    "collapsed": false
   },
   "outputs": [],
   "source": [
    "#########################################################\n",
    "## Variables\n",
    "## Note dependency of variables [zipfolder, zipname] defined above \n",
    "gage_name = 'gage.shp'\n",
    "\n",
    "gagefile = zipfolder + '/' + zipname + '/' + gage_name\n",
    "## The name of the layer within the gage shapefile where gage points are located.\n",
    "layername = 'gage'\n",
    "## The name of the attribute field that uniquely identifies gage points.\n",
    "id_attribute = 'gage_id'\n",
    "## The gage ID that uniquely identifies the gage point.\n",
    "id_value = \"\\\"Weir 18\\\"\"\n",
    "\n",
    "#########################################################\n",
    "## Commands\n",
    "w.RegisterGage(w.sub_project_folder, gagefile, layername, id_attribute, id_value)\n",
    "\n",
    "print 'Finished Step'"
   ]
  },
  {
   "cell_type": "markdown",
   "metadata": {},
   "source": [
    "## Retrieve Landcover Dataset\n",
    "\n",
    "`get_USGSNLCDForDEMExtent` retrieves the National Landcover Dataset (NLCD) within the watershed extent. "
   ]
  },
  {
   "cell_type": "code",
   "execution_count": null,
   "metadata": {
    "collapsed": false
   },
   "outputs": [],
   "source": [
    "#########################################################\n",
    "## Commands\n",
    "output = w.get_USGSNLCDForDEMExtent(w.sub_project_folder)\n",
    "print(output)\n",
    "\n",
    "print 'Finished Step'"
   ]
  },
  {
   "cell_type": "markdown",
   "metadata": {},
   "source": [
    "## Register Roads\n",
    "\n",
    "**Register raster** into metadata store for a project directory,\n",
    "copying the raster into the project directory in the process. <br/> <br/>\n",
    "**Raster type** must be one of ** landcover,roof_connectivity,soil,lai,patch,zone,isohyet,leafc,rootdepth,roads,stream_burned_dem ** <br/> <br/>\n",
    "**resampleMethod ** Method to use to resample raster to DEM extent and spatial reference (if necessary). Defaults to 'near'. **{near,bilinear,cubic,cubicspline,lanczos,average,mode}**\n",
    "<br/> <br/>\n",
    "&#9971; **Note: ** Change the `roads_name` variable below to match the road raster dataset within your resource. Skip this step, if your resource has no roads.\n"
   ]
  },
  {
   "cell_type": "code",
   "execution_count": null,
   "metadata": {
    "collapsed": false
   },
   "outputs": [],
   "source": [
    "#########################################################\n",
    "## Variables\n",
    "## Note dependency of variables [zipfolder, zipname] defined above \n",
    "roads_name = 'roads.tif'\n",
    "roads_file = zipfolder + '/' + zipname + '/rhessys/' + roads_name\n",
    "\n",
    "raster_type = 'roads'\n",
    "raster_sample = 'near'\n",
    "\n",
    "options = \" -p \" + w.sub_project_folder + \" -t \" + raster_type + \" -r \" + roads_file + \" --force -s \" + raster_sample\n",
    "#########################################################\n",
    "## Commands\n",
    "output = w.RegisterRasterOptions(options)\n",
    "print(output)\n",
    "\n",
    "print 'Finished Step'"
   ]
  },
  {
   "cell_type": "markdown",
   "metadata": {},
   "source": [
    "## Retrieve Soil\n",
    "The USDA NRCS provides the [Soil Data Mart](http://sdmdataaccess.nrcs.usda.gov/), a web services-based interface for querying and downloading high-resolution SSURGO soils data.\n",
    "<br/>\n",
    "<br/>\n",
    "**Note:** Output from get_SSURGOFeaturesForBoundingbox has been piped to output variable. For debugging, uncomment print statement (i.e. remove #)."
   ]
  },
  {
   "cell_type": "code",
   "execution_count": null,
   "metadata": {
    "collapsed": false
   },
   "outputs": [],
   "source": [
    "#########################################################\n",
    "## Commands\n",
    "output = w.get_SSURGOFeaturesForBoundingbox(w.sub_project_folder)\n",
    "#print(output)\n",
    "\n",
    "print 'Finished Step'"
   ]
  },
  {
   "cell_type": "markdown",
   "metadata": {},
   "source": [
    "## Register LAI\n",
    "Here the resource or user supplied **LAI** is registered.\n",
    "<br/> <br/>\n",
    "&#9971; **Note: ** Change the `lai_name` variable below to match the LAI raster dataset within your resource. Skip this step, if your resource has no LAI."
   ]
  },
  {
   "cell_type": "code",
   "execution_count": null,
   "metadata": {
    "collapsed": false
   },
   "outputs": [],
   "source": [
    "#########################################################\n",
    "## Variables\n",
    "## Note dependency of variables [zipfolder, zipname] defined above \n",
    "lai_name = 'lai.tif'\n",
    "\n",
    "lai_file = zipfolder + '/' + zipname + '/' + lai_name\n",
    "\n",
    "raster_type = 'lai'\n",
    "raster_sample = 'bilinear'\n",
    "\n",
    "options = \" -p \" + w.sub_project_folder + \" -t \" + raster_type + \" -r \" + lai_file + \" --force -s \" + raster_sample\n",
    "\n",
    "#########################################################\n",
    "## Commands\n",
    "w.RegisterRasterOptions(options)\n",
    "\n",
    "print 'Finished Step'"
   ]
  },
  {
   "cell_type": "markdown",
   "metadata": {},
   "source": [
    "## Register ISOHYET\n",
    "Here the resource or user supplied **ISOHYET** is registered.\n",
    "<br/> <br/>\n",
    "&#9971; **Note: ** Change the `lai_name` variable below to match the LAI raster dataset within your resource. Skip this step, if your resource has no LAI."
   ]
  },
  {
   "cell_type": "code",
   "execution_count": null,
   "metadata": {
    "collapsed": false
   },
   "outputs": [],
   "source": [
    "#########################################################\n",
    "## Variables\n",
    "## Note dependency of variables [zipfolder, zipname] defined above \n",
    "isohyet_name = 'isohyet.tif'\n",
    "\n",
    "isohyet_file = zipfolder + '/' + zipname + '/' + isohyet_name\n",
    "\n",
    "raster_type = 'isohyet'\n",
    "raster_sample = 'bilinear'\n",
    "\n",
    "options = \" -p \" + w.sub_project_folder + \" -t \" + raster_type + \" -r \" + isohyet_file + \" --force -s \" + raster_sample\n",
    "\n",
    "#########################################################\n",
    "## Commands\n",
    "w.RegisterRasterOptions(options)\n",
    "\n",
    "print 'Finished Step'"
   ]
  },
  {
   "cell_type": "markdown",
   "metadata": {},
   "source": [
    "## Generate Soil Properties From SSURGO\n",
    "Get SSURGO features for a bounding box. The following attributes will be rasterized: ['ksat', 'pctClay', 'pctSilt', 'pctSand', 'porosity', 'fieldCap', 'avlWatCap', 'drnWatCont', 'brockdepmin']. Features with null values for a particular attribute will receive a raster value of 0."
   ]
  },
  {
   "cell_type": "code",
   "execution_count": null,
   "metadata": {
    "collapsed": false
   },
   "outputs": [],
   "source": [
    "#########################################################\n",
    "## Commands\n",
    "output = w.GenerateSoilPropertyRastersFromSSURGO(w.sub_project_folder)\n",
    "#print(output)\n",
    "\n",
    "print 'Finished Step'"
   ]
  },
  {
   "cell_type": "markdown",
   "metadata": {},
   "source": [
    "## Create a new GRASS GIS Location\n",
    "\n",
    "RHESSys requires that all spatial data used to create a world file and flow table for a RHESSys model be stored in a GRASS GIS mapset. We'll start building these data in RHESSysWorkflows by creating a new GRASS location and mapset within our project directory, and importing our DEM into this mapset using the **CreateGRASSLocationFromDEM** tool. <br/>\n",
    "<br/> <br/>\n",
    "&#9971; **Note: ** Change the `description` variable below to match your resource description."
   ]
  },
  {
   "cell_type": "code",
   "execution_count": null,
   "metadata": {
    "collapsed": false
   },
   "outputs": [],
   "source": [
    "#########################################################\n",
    "## Variables\n",
    "description = '\"RHESSys model for watershed 18 at Coweeta LTER\"'\n",
    "\n",
    "#########################################################\n",
    "## Commands\n",
    "output = w.CreateGRASSLocationFromDEM(w.sub_project_folder, description)\n",
    "#print(output)\n",
    "\n",
    "print 'Finished Step'"
   ]
  },
  {
   "cell_type": "markdown",
   "metadata": {},
   "source": [
    "## Import RHESSys Code\n",
    "To create worldfiles and flow tables RHESSysWorkflows needs a copy of RHESSys source code. RHESSysWorkflows also uses the new RHESSys ParamDB database and Python libraries to generate vegetation, soil, land use and other parameters needed by RHESSys. RHESSysWorkflows is only compatible with the pre-release version of RHESSys 5.16 and later versions of the code. At present, and for first-time users, the most reliable way to import ParamDB and RHESSys source code into your project is to download the code from GitHub using the **ImportRHESSysSource** tool. However, this tool is also capable of importing RHESSys source code stored on your computer. This allows you to import the code from a previous RHESSysWorkflows project; ParamDB is always downloaded from GitHub, even when RHESSys source code is imported from a local source.\n",
    "\n",
    "The `ImportRHESSysSource` function downloads and compiles the latest [RHESSys](https://github.com/RHESSys/RHESSys) source code in the user defined project folder. This make take a couple minutes.   "
   ]
  },
  {
   "cell_type": "code",
   "execution_count": null,
   "metadata": {
    "collapsed": false
   },
   "outputs": [],
   "source": [
    "#########################################################\n",
    "## Commands\n",
    "\n",
    "output = w.ImportRHESSysSource(w.sub_project_folder)\n",
    "#print(output)\n",
    "\n",
    "print 'Finished Step'"
   ]
  },
  {
   "cell_type": "markdown",
   "metadata": {},
   "source": [
    "## Delineate Watershed\n",
    "RHESSysWorkflows automates the process of delineating your study watershed based on the location of the streamflow gage registered in the workflow using EcohydroLib. As part of this process, many datasets needed by RHESSys will be derived from the DEM. To delineate the watershed we use the **DelineateWatershed** tool.\n",
    "\n",
    "Here the **cell_size** parameter specifies the minimum size (in DEM cells) for subwatersheds generated by the GRASS command r.watershed.\n",
    "\n",
    "The **area_estimate** parameter allows you to provide a guess of the area (in sq. km) of the delineated watershed. DelineateWatershed will report whether the watershed is within 20% of the area. You can view the delineated watershed in GRASS by displaying the raster map named basin. If the area or the shape of the delineated watershed differs greatly from what you expect, you may need to vary how DelineateWatershed snaps your streamflow gage onto the stream network. This is accomplished by either changing the -s (a.k.a. --streamThreshold) or stream threshold parameter and/or the -w (a.k.a. --streamWindow) parameter passed to r.findtheriver.\n",
    "<br/> <br/>\n",
    "&#9971; **Note: ** Change the `cell_size` and `area_estimate` variables below to match your resource watershed property. Uncomment the `print(output)` statement to evaluate the area estimate."
   ]
  },
  {
   "cell_type": "code",
   "execution_count": null,
   "metadata": {
    "collapsed": false
   },
   "outputs": [],
   "source": [
    "#########################################################\n",
    "## Variables\n",
    "\n",
    "cell_size = 250\n",
    "area_estimate = 0.13\n",
    "\n",
    "#########################################################\n",
    "## Commands\n",
    "output = w.DelineateWatershed(w.sub_project_folder, cell_size, area_estimate)\n",
    "#print(output)\n",
    "\n",
    "print 'Finished Step'"
   ]
  },
  {
   "cell_type": "markdown",
   "metadata": {},
   "source": [
    "## Generate derived landcover maps\n",
    "\n",
    "Now we generating LAI, isohyet, roads and landcover maps from your project directory into GRASS using the **ImportRasterMapIntoGRASS** tool. <br>\n",
    "**--type** {all,landcover,roof_connectivity,soil,lai,patch,zone,isohyet,leafc,rootdepth,roads,stream_burned_dem}  <br>\n",
    "**--method** {none,nearest,bilinear,bicubic} <br>\n",
    "<br/> <br/>\n",
    "&#9971; **Note: ** Skip any **ImportRasterMapIntoGRASS** steps below if you did not register the rasters above."
   ]
  },
  {
   "cell_type": "code",
   "execution_count": null,
   "metadata": {
    "collapsed": false
   },
   "outputs": [],
   "source": [
    "#########################################################\n",
    "## Variables\n",
    "raster_type = 'lai'\n",
    "raster_sample = 'bilinear'\n",
    "\n",
    "#########################################################\n",
    "## Commands\n",
    "output = w.ImportRasterMapIntoGRASS(w.sub_project_folder, raster_type, raster_sample)\n",
    "#print(output)\n",
    "\n",
    "print 'Finished Step'"
   ]
  },
  {
   "cell_type": "code",
   "execution_count": null,
   "metadata": {
    "collapsed": false
   },
   "outputs": [],
   "source": [
    "#########################################################\n",
    "## Variables\n",
    "raster_type = 'isohyet'\n",
    "raster_sample = 'bilinear'\n",
    "\n",
    "#########################################################\n",
    "## Commands\n",
    "output = w.ImportRasterMapIntoGRASS(w.sub_project_folder, raster_type, raster_sample)\n",
    "#print(output)\n",
    "\n",
    "print 'Finished Step'"
   ]
  },
  {
   "cell_type": "code",
   "execution_count": null,
   "metadata": {
    "collapsed": false
   },
   "outputs": [],
   "source": [
    "#########################################################\n",
    "## Variables\n",
    "raster_type = 'roads'\n",
    "raster_sample = 'nearest'\n",
    "\n",
    "#########################################################\n",
    "## Commands\n",
    "output = w.ImportRasterMapIntoGRASS(w.sub_project_folder, raster_type, raster_sample)\n",
    "#print(output)\n",
    "\n",
    "print 'Finished Step'"
   ]
  },
  {
   "cell_type": "code",
   "execution_count": null,
   "metadata": {
    "collapsed": false
   },
   "outputs": [],
   "source": [
    "#########################################################\n",
    "## Variables\n",
    "raster_type = 'landcover'\n",
    "raster_sample = 'nearest'\n",
    "\n",
    "#########################################################\n",
    "## Commands\n",
    "output = w.ImportRasterMapIntoGRASS(w.sub_project_folder, raster_type, raster_sample)\n",
    "#print(output)\n",
    "\n",
    "print 'Finished Step'"
   ]
  },
  {
   "cell_type": "markdown",
   "metadata": {},
   "source": [
    "## Register landcover Rules\n",
    "\n",
    "The RegisterLandcoverReclassRules function generates landcover raster map reclassification rules ( stratum, landuse, impervious, road, lai-recode ) which are then used by the GenerateLandcoverMaps function to generate derived landscover data for RHESSys.\n"
   ]
  },
  {
   "cell_type": "code",
   "execution_count": null,
   "metadata": {
    "collapsed": false
   },
   "outputs": [],
   "source": [
    "#########################################################\n",
    "## Commands\n",
    "output = w.RegisterLandcoverReclassRules(w.sub_project_folder)\n",
    "#print(output)\n",
    "\n",
    "print 'Finished Step'"
   ]
  },
  {
   "cell_type": "markdown",
   "metadata": {},
   "source": [
    "Once the landcover reclass rules are in place, it is very easy to generate the raster maps derived from the landcover data as well as the vegetation and land use definition files needed by RHESSys using ***GenerateLandcoverMapsOptions*** tool.\n",
    "<br>\n",
    "<br>\n",
    "**Options** include the following: <br>\n",
    "**-l, --makeLaiMap**      Make LAI map <br>\n",
    "**--skipRoads**           Do not make roads map <br>\n",
    "**--defonly**             Only generate landuse and stratum definition files, do not try to create maps. Maps must already exist. <br>\n",
    "**--overwrite**           Overwrite existing datasets in the GRASS mapset. If not specified, program will halt if a dataset already exists.<br>\n",
    "<br/> <br/>\n",
    "&#9971; **Note: ** Modify **landcover_options** below to match your data inputs.\n"
   ]
  },
  {
   "cell_type": "code",
   "execution_count": null,
   "metadata": {
    "collapsed": false
   },
   "outputs": [],
   "source": [
    "#########################################################\n",
    "## Variables\n",
    "landcover_options =  \" --skipRoads\"\n",
    "\n",
    "options = \" -p \" + w.sub_project_folder + landcover_options\n",
    "\n",
    "#########################################################\n",
    "## Commands\n",
    "output = w.GenerateLandcoverMapsOptions(options)\n",
    "#print(output)\n",
    "\n",
    "print 'Finished Step'"
   ]
  },
  {
   "cell_type": "markdown",
   "metadata": {},
   "source": [
    "## Process Soil Texture Map\n",
    "\n",
    "Since we used EcohydroLib's SSURGO tools to generate percent sand and percent clay raster maps for our watershed, we can use the GRASS add-on r.soils.texture to generate USDA soil texture classes, for which RHESSys's ParamDB contains parameters. It is also possible to use custom soil maps (refer to the Tutorial).\n",
    "\n",
    "To generate our soil texture map in GRASS, as well as the corresponding RHESSys soil definition files, use the **GenerateSoilTextureMap** tool as follows: <br>\n",
    "<br>\n",
    "<br>\n",
    "**Options** include the following: <br>\n",
    "**--defonly**             Only generate soil definition files, do not try to create soil texture map. Map must already exist. <br>\n",
    "**--overwrite**           Overwrite existing datasets in the GRASS mapset. If not specified, program will halt if a dataset already exists.<br>\n"
   ]
  },
  {
   "cell_type": "code",
   "execution_count": null,
   "metadata": {
    "collapsed": false
   },
   "outputs": [],
   "source": [
    "#########################################################\n",
    "## Variables\n",
    "soil_options =  \" --overwrite\"\n",
    "\n",
    "#########################################################\n",
    "## Commands\n",
    "output = w.GenerateSoilTextureMap(w.sub_project_folder, options=soil_options)\n",
    "#print(output)\n",
    "\n",
    "print 'Finished Step'"
   ]
  },
  {
   "cell_type": "markdown",
   "metadata": {},
   "source": [
    "## Generate Patch Map\n",
    "\n",
    "RHESSysWorkflows provides **GeneratePatchMap**, an automated tool for creating gridded and clumped patch maps. Gridded patch maps consist of a regular grid of the same resolution and extent as the DEM; clumped maps can be created using elevation or topographic wetness index rasters. Modelers can also use custom patch maps registered via EcohydroLib's RegisterRaster tool and imported into GRASS using ImportRasterMapIntoGRASS. <br>\n",
    "<br>\n",
    "<br>\n",
    "**Options** include the following: <br>\n",
    "**-t {grid,clump}**             Type of patch to be generated: uniform grid or clumps based on elevation. <br>\n",
    "**-c {elevation,wetness_index}**             Type of patch to be generated: uniform grid or clumps based on elevation.<br>\n",
    "**-z**             Use patch map as zone map even if zone map is already defined. By default if a zone map is present, this script will not set the patch map as the zone map.<br>\n",
    "**--overwrite**           Overwrite existing datasets in the GRASS mapset. If not specified, program will halt if a dataset already exists.<br>"
   ]
  },
  {
   "cell_type": "code",
   "execution_count": null,
   "metadata": {
    "collapsed": false
   },
   "outputs": [],
   "source": [
    "#########################################################\n",
    "## Variables\n",
    "grid_options =  \" -t grid --overwrite\"\n",
    "\n",
    "patch_options = \" -p \" + w.sub_project_folder + grid_options\n",
    "\n",
    "#########################################################\n",
    "## Commands\n",
    "output = w.GeneratePatchMapOptions(patch_options)\n",
    "#print(output)\n",
    "\n",
    "print 'Finished Step'"
   ]
  },
  {
   "cell_type": "markdown",
   "metadata": {},
   "source": [
    "## Import Climate Data\n",
    "\n",
    "Because of the great variability of climate data formats, and the complexity of time-series workflows, we have chosen to focus development effort on RHESSysWorkflows toward making it easier to acquire and manipulate geospatial data required for building RHESSys work files and flow tables. This means that the modeler is responsible for building the climate data necessary for building RHESSys world files and performing model runs.\n",
    "\n",
    "RHESSysWorkflows provides the **ImportClimateData** tool to import RHESSys climate data into your project.\n",
    "\n"
   ]
  },
  {
   "cell_type": "code",
   "execution_count": null,
   "metadata": {
    "collapsed": false
   },
   "outputs": [],
   "source": [
    "#########################################################\n",
    "## Variables\n",
    "## Note dependency of variables [zipfolder, zipname] defined above \n",
    "climate_name = 'rhessys/clim'\n",
    "\n",
    "climate_file = zipfolder + '/' + zipname + '/' + climate_name\n",
    "\n",
    "w.climate_data_fullpathname = climate_file;\n",
    "#########################################################\n",
    "## Commands\n",
    "output = w.ImportClimateData(w.sub_project_folder, w.climate_data_fullpathname)\n",
    "#print(output)\n",
    "\n",
    "print 'Finished Step'\n"
   ]
  },
  {
   "cell_type": "markdown",
   "metadata": {},
   "source": [
    "## Generate World Template and World File\n",
    "Now we are almost ready to create the world file for our watershed. First we must create the template from which the world file will be created. To do this, we'll use the **GenerateWorldTemplate** tool. Fortunately this is very easy because the metadata store contains nearly all the information needed to create the template.\n",
    "\n",
    "**Options** include the following: <br>\n",
    "**-c (a.k.a. --climateStation)**      The climate station to associate with the worldfile. Must be one of the climate stations specified in the \"climate_stations\" key in the \"rhessys\" section of the metadata<br>\n",
    "**--aspectMinSlopeOne**           Use slope map with a minimum value of 1.0 to be used for calculating spherical average aspect. Needed for areas of low slope due to limitations of RHESSys grass2world, which truncates slopes <1 to 0.0, which causes spherical average of <br> <br/>\n",
    "**-v, --verbose **        Print detailed information about what the program is doing<br>\n",
    "\n",
    "<br/> <br/>\n",
    "&#9971; **Note: ** Modify **world_template_options** below to match your climate data inputs.\n",
    "\n"
   ]
  },
  {
   "cell_type": "code",
   "execution_count": null,
   "metadata": {
    "collapsed": false
   },
   "outputs": [],
   "source": [
    "#########################################################\n",
    "## Variables\n",
    "world_template_flags =  \" -c cwt\"\n",
    "world_template_options = \" -p \" + w.sub_project_folder + world_template_flags\n",
    "\n",
    "#########################################################\n",
    "## Commands\n",
    "output = w.GenerateWorldTemplateOptions(world_template_options)\n",
    "print(output)\n",
    "\n",
    "print 'Finished Step'"
   ]
  },
  {
   "cell_type": "markdown",
   "metadata": {},
   "source": [
    "Now use the **CreateWorldfile** tool to create a world file using this template. <br/>\n",
    "Note: Output from CreateWorldfile has been piped to output variable. For debugging, uncomment print statement (i.e. remove #)."
   ]
  },
  {
   "cell_type": "code",
   "execution_count": null,
   "metadata": {
    "collapsed": false
   },
   "outputs": [],
   "source": [
    "#########################################################\n",
    "## Commands\n",
    "output = w.CreateWorldfile(w.sub_project_folder)\n",
    "#print(output)\n",
    "\n",
    "print 'Finished Step'"
   ]
  },
  {
   "cell_type": "markdown",
   "metadata": {},
   "source": [
    "## Create Flow Table\n",
    "As with worldfile creation, at this point in the workflow, RHESSysWorkflows's metadata store contains all the information needed to create a flow table using the createflowpaths (CF) RHESSys program. We'll use CreateFlowtable to create our flow table.\n",
    "<br><br>\n",
    "This will result in the creation of a flow table called world.flow in the flow directory of your rhessys directory. Now we have almost everything we need to run RHESSys simulations.\n",
    "<br><br>\n",
    "See the RHESSysWorkflows tutorial to learn how to [route surface flows for road pixels directly to the stream](https://github.com/selimnairb/RHESSysWorkflows#creating-the-flow-table) and [create surface flow tables using a roof connectivity map](https://github.com/selimnairb/RHESSysWorkflows#creating-a-surface-flow-table-using-a-roof-connectivity-map)\n",
    "<br>\n",
    "<br>\n",
    "**Options** include the following: <br>\n",
    "**--routeRoads**      Tell createflowpaths to route flow from roads to the nearest stream pixel (requires roads_rast to be defined in metadata)<br>\n",
    "**--routeRoofs** Tell createflowpaths to route flow from roof tops based on roof top connectivity to nearest impervious surface\n",
    "(requires roof_connectivity_rast and impervious_rast to be defined in metadata)<br>\n",
    "**-f, --force ** Run createflowpaths even if DEM x resolution does not match y resolution<br>\n",
    "**--ignoreBurnedDEM ** Ignore stream burned DEM, if present. Default DEM raster will be used for all operations. If not specified and if stream burned raster is present, stream burned DEM will be used for generating the flow table.<br>\n",
    "**-v, --verbose **        Print detailed information about what the program is doing<br>\n",
    "\n",
    "\n",
    "<br/> <br/>\n",
    "&#9971; **Note: ** Modify **flow_table_options** below to match your data inputs.\n",
    "\n",
    "\n"
   ]
  },
  {
   "cell_type": "code",
   "execution_count": null,
   "metadata": {
    "collapsed": false
   },
   "outputs": [],
   "source": [
    "#########################################################\n",
    "## Variables\n",
    "flow_table_flags = \" --routeRoads -v\"\n",
    "flow_table_options = \" -p \" + w.sub_project_folder + flow_table_flags\n",
    "\n",
    "#########################################################\n",
    "## Commands\n",
    "output = w.CreateFlowtableOptions(flow_table_options)\n",
    "print(output)\n",
    "\n",
    "print 'Finished Step'"
   ]
  },
  {
   "cell_type": "markdown",
   "metadata": {},
   "source": [
    "## Initializing vegetation carbon and nitrogen stores\n",
    "RHESSys provides a program called LAIread to initialize vegetation carbon and nitrogen stores in your world file.<br>\n",
    "<br>\n",
    "Initializing carbon and nitrogen stores is a multi-step process that involves running LAI read to generate a redefine worldfile, running a 3-day RHESSys simulation to incorporate the redefine worldfile, writing out a new worldfile with initialized vegetation carbon and nitrogen stores. RHESSysWorkflows automates all of these processes for you using the tool RunLAIRead, which can even figure out what date to start the 3-day RHESSys simulation on based on your climate data. <br>\n",
    "<br>\n",
    "### Note: The output below is long, however, it is recommended to scroll to the tail end of the output to check for error messages."
   ]
  },
  {
   "cell_type": "code",
   "execution_count": null,
   "metadata": {
    "collapsed": false
   },
   "outputs": [],
   "source": [
    "#########################################################\n",
    "## Commands\n",
    "output = w.RunLAIRead(w.sub_project_folder)\n",
    "print(output)\n",
    "\n",
    "print 'Finished Step'"
   ]
  },
  {
   "cell_type": "markdown",
   "metadata": {},
   "source": [
    "## Creating a RHESSys TEC file\n",
    "We need one more thing before we can run our model, a TEC file. TEC stands for \"temporal event controller\". We use a TEC file to tell RHESSys to do things on at certain times during a simulation."
   ]
  },
  {
   "cell_type": "code",
   "execution_count": null,
   "metadata": {
    "collapsed": false
   },
   "outputs": [],
   "source": [
    "#########################################################\n",
    "## Variables\n",
    "model_start = str(w.model_start_year) + ' ' + str(w.model_start_month) + ' ' + str(w.model_start_day) + ' 1'\n",
    "\n",
    "tec_file = \"tec_daily.txt\"\n",
    "tec_output_location = w.sub_project_folder + \"/rhessys/tecfiles/\" + tec_file\n",
    "tec_cmd = ' echo \"' + model_start + ' print_daily_on\" > '\n",
    "tec_flags = tec_cmd + tec_output_location\n",
    "tec_options = \" -p \" + w.sub_project_folder + tec_flags\n",
    "\n",
    "#########################################################\n",
    "## Commands\n",
    "output = w.RunCmdOptions(tec_options)\n",
    "print(output)\n",
    "\n",
    "print 'Finished Step'\n"
   ]
  },
  {
   "cell_type": "markdown",
   "metadata": {},
   "source": [
    "## Running RHESSys models\n",
    "Once you have built a RHESSys model using RHESSysWorkflows, you are free to run your model manually. However this will not capture information about model runs in your project metadata. If you would like to record your runs in your project metadata, use the **RunModel** command.\n",
    "\n",
    "\n",
    "Because the project metadata knows where RHESSys is installed in your project directory, you don't have to specify the full path of any of the RHESSys input files (e.g. world files, flow tables, TEC files, etc), you only need to specify the filenames. RunModel will echo RHESSys console outlet to the screen (if the -v or verbose option is specified as above), and will always save the same output into a file named 'rhessys.out' stored in the output folder for each model run. The output folder will be named based on the value you provide for the '-pre' or output prefix option. Model output is stored in the output directory of the rhessys directory of your project directory.\n",
    "\n",
    "For more details on using RunModel see the RHESSysWorkflows [tutorial](https://github.com/selimnairb/RHESSysWorkflows#running-rhessys-models).\n",
    "\n",
    "<br>\n",
    "<br>\n",
    "**Options** include the following: <br>\n",
    "**-d DESCRIPTION, --description** Description of the model run<br>\n",
    "**-pre OUTPUTPREFIX** Filename prefix to use for output files, relative to output directory in the RHESSys directory of the project<br>\n",
    "**-st STARTDATE STARTDATE STARTDATE STARTDATE** Start date and time of the model run, of the form \"YYYY M D H\"<br>\n",
    "**-ed ENDDATE ENDDATE ENDDATE ENDDATE** Date date and time of the model run, of the form \"YYYY M D H\".<br>\n",
    "**-w WORLDFILE** Filename of the tecfile to use for the model run, specified relative to the tec directory in the RHESSys directory of the projec<br>\n",
    "**-t TECFILE **        Filename of the tecfile to use for the model run, specified relative to the tec directory in the RHESSys directory of the project<br>\n",
    "**-r [FLOWTABLES [FLOWTABLES ...]]**Filename(s) of the flow table(s) to use for the model run, specified relative to the flowtable directory in the RHESSys directory of the project. If one flow table is supplied, it will be used for subsurface and surface routing. If two flow tables are supplied the first will be use for subsurface routing, the second for surface<br>\n",
    "**--basin ** Tell RHESSys to output at the basin spatial level<br>\n",
    "**--hillslope ** Tell RHESSys to output at the hillslope spatial level<br>\n",
    "**--zone ** Tell RHESSys to output at the zone spatial level<br>\n",
    "**--patch ** Tell RHESSys to output at the patch spatial level<br>\n",
    "**--canopy ** Tell RHESSys to output at the canopy stratum spatial level<br>\n",
    "**-v, --verbose **        Print detailed information about what the program is doing<br>\n",
    "\n",
    "\n",
    "<br/> <br/>\n",
    "&#9971; **Note: ** Modify **options** below to match your data inputs.\n",
    "\n",
    "\n"
   ]
  },
  {
   "cell_type": "code",
   "execution_count": null,
   "metadata": {
    "collapsed": false,
    "scrolled": true
   },
   "outputs": [],
   "source": [
    "#########################################################\n",
    "## Variables\n",
    "## Note dependency of variables [w.model_start_year, w.model_start_month, w.model_start_day] defined above \n",
    "## Note dependency of variables [w.model_end_year, w.model_end_month, w.model_end_day] defined above \n",
    "## Note dependency of variables [tec_file] defined above \n",
    "\n",
    "model_start = str(w.model_start_year) + ' ' + str(w.model_start_month) + ' ' + str(w.model_start_day) + ' 1'\n",
    "model_end = str(w.model_end_year) + ' ' + str(w.model_end_month) + ' ' + str(w.model_end_day) + ' 1'\n",
    "\n",
    "description = '\"Test model run\"'  ##Must use double quotes here\n",
    "spatial_level = \"--basin\"\n",
    "prefix = \"test\"\n",
    "world_file = \"world\"\n",
    "#tec_file = \"tec_daily.txt\" ##Defined above step\n",
    "flow_table = \"world.flow\"\n",
    "s_flag = '0.07041256017 133.552915269 1.81282283058'\n",
    "sv_flag = '4.12459677088 78.3440566535'\n",
    "gw_flag = '0.00736592779294 0.340346799457'\n",
    "flow_table_flag = ' -r ' + flow_table + ' -- -s ' + s_flag + ' -sv ' + sv_flag + ' -gw ' + gw_flag\n",
    "\n",
    "runmodel_flags = '  -d ' + description + ' ' + spatial_level + ' -pre ' + prefix +' -st ' + model_start + ' -ed ' + model_end + ' -w ' + world_file + ' -t ' + tec_file + flow_table_flag\n",
    "runmodel_options = \" -v -p \" + w.sub_project_folder + runmodel_flags\n",
    "##print(runmodel_options)\n",
    "\n",
    "#########################################################\n",
    "## Commands\n",
    "output = w.RunModelOptions(runmodel_options)\n",
    "print(output)\n",
    "\n",
    "print 'Finished Step'\n"
   ]
  },
  {
   "cell_type": "markdown",
   "metadata": {},
   "source": [
    "## Help with error messages\n",
    "\n",
    "If you see an error message, such as **returned non-zero exit status 1** check the log file located in the **w.sub_project_folder** folder. The log file name is the same name as the project folder, with **.log** appended.\n"
   ]
  },
  {
   "cell_type": "markdown",
   "metadata": {
    "collapsed": true
   },
   "source": [
    "## Resources\n",
    "\n",
    "* RHESSys\n",
    "  * [Setup](http://fiesta.bren.ucsb.edu/~rhessys/setup/setup.html)\n",
    "  * [Wiki](http://fiesta.bren.ucsb.edu/~rhessys/)\n",
    "* Data\n",
    "  * [HydroShare](https://www.hydroshare.org/)\n",
    "  * [USGS Data and Tools](https://www.usgs.gov/products/data-and-tools/data-and-tools-topics)\n",
    "  * [USDA Data gateway](https://gdg.sc.egov.usda.gov/)\n",
    "  * [HydroTerre](http://hydroterre.psu.edu/)\n",
    "  "
   ]
  },
  {
   "cell_type": "markdown",
   "metadata": {
    "collapsed": true
   },
   "source": [
    "## Funding\n",
    "This work was supported by the following NSF grants\n",
    "\n",
    "    Award no. 1239678 EAGER: Collaborative Research: Interoperability Testbed-Assessing a Layered Architecture for Integration of Existing Capabilities\n",
    "\n",
    "    Award no. 0940841 DataNet Federation Consortium.\n",
    "\n",
    "    Award no. 1148090 Collaborative Research: SI2-SSI: An Interactive Software Infrastructure for Sustaining Collaborative Innovation in the Hydrologic Sciences\n",
    "\n"
   ]
  },
  {
   "cell_type": "markdown",
   "metadata": {},
   "source": [
    "## Credits\n",
    "\n",
    "**Lawrence E. Band** lband@email.unc.edu <br/>\n",
    "**Brian Miles** brian_miles@unc.edu <br/> \n",
    "**Laurence Lin** laurence.lin@icloud.com <br/>\n",
    "**John Duncan** jon.m.duncan@gmail.com <br/>\n",
    "**Lorne Leonard** lnl3@psu.edu <br/>\n"
   ]
  },
  {
   "cell_type": "code",
   "execution_count": null,
   "metadata": {
    "collapsed": true
   },
   "outputs": [],
   "source": []
  }
 ],
 "metadata": {
  "kernelspec": {
   "display_name": "Python 2",
   "language": "python",
   "name": "python2"
  },
  "language_info": {
   "codemirror_mode": {
    "name": "ipython",
    "version": 2
   },
   "file_extension": ".py",
   "mimetype": "text/x-python",
   "name": "python",
   "nbconvert_exporter": "python",
   "pygments_lexer": "ipython2",
   "version": "2.7.12"
  }
 },
 "nbformat": 4,
 "nbformat_minor": 0
}
