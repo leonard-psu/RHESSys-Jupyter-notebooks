{
 "cells": [
  {
   "cell_type": "markdown",
   "metadata": {},
   "source": [
    "##  Green Infrastructure Designer web site with RHESSys Workflow. \n",
    "\n",
    "Using the **GI (Green Infrastructure)** designer web site, users design green infrastructure via GIS maps and web services to create datasets for RHESSys workflows. <br>  \n",
    "\n",
    "RHESSysWorkflows provides a series of Python tools for performing [RHESSys](https://github.com/RHESSys/RHESSys) data preparation workflows. These tools build on the workflow system defined by [EcohydroLib](https://github.com/selimnairb/EcohydroLib) and [RHESSysWorkflows](https://github.com/selimnairb/RHESSysWorkflows).\n",
    "\n",
    "<br>\n",
    "<br>\n",
    "This cell loads the GI website. Use the **Help tab** for further instructions on generating GI."
   ]
  },
  {
   "cell_type": "code",
   "execution_count": null,
   "metadata": {
    "collapsed": false
   },
   "outputs": [],
   "source": [
    "%%HTML\n",
    "<iframe id=\"myiframe\" width=\"1000px\" height=\"900px\" src=\"http://gidesigner.renci.org/GI_Designer_01_31_2017_WithIFrame/GI_HS.html\"></iframe>\n",
    "\n",
    "<script type=\"text/javascript\">\n",
    "\n",
    "var eventMethod = window.addEventListener;\n",
    "var eventer = window[eventMethod];\n",
    "var messageEvent = \"message\";  \n",
    "\n",
    "window.addEventListener('message',function(e) {\n",
    "    var key = e.message ? 'message' : 'data';    \n",
    "    if(key == \"data\")\n",
    "    {\n",
    "        var data = e[key];    \n",
    "        var res = data.split(\"=\"); \n",
    "        var new_key = res[0];\n",
    "        var new_value = res[1];\n",
    "        console.log(new_key);\n",
    "        if(new_key.includes(\"download_url\") )\n",
    "        {\n",
    "            IPython.notebook.kernel.execute(new_key + '=\\'' + new_value + '\\'');\n",
    "            console.log(new_value);\n",
    "        }\n",
    "        else\n",
    "        {\n",
    "            var json = JSON.parse(new_value);\n",
    "            var json_string = JSON.stringify(json);     \n",
    "            console.log(json_string);               \n",
    "            IPython.notebook.kernel.execute(new_key + '=\\'' + json_string + '\\'');        \n",
    "        }\n",
    "    };\n",
    "},false);\n",
    "</script>"
   ]
  },
  {
   "cell_type": "markdown",
   "metadata": {},
   "source": [
    "&#9866;&#9866;&#9866;&#9866;&#9866;&#9866;&#9866;&#9866;&#9866;&#9866;&#9866;&#9866;&#9866;&#9866;&#9866;&#9866;&#9866;&#9866;&#9866;&#9866;&#9866;&#9866;&#9866;&#9866;&#9866;&#9866;&#9866;&#9866;&#9866;&#9866;&#9866;&#9866;&#9866;&#9866;&#9866;&#9866;&#9866;&#9866;&#9866;&#9866;&#9866;&#9866;&#9866;&#9866;&#9866;&#9866;&#9866;&#9866;&#9866;&#9866;&#9866;&#9866;&#9866;&#9866;&#9866;&#9866;&#9866;&#9866;&#9866;&#9866;&#9866;&#9866;&#9866;&#9866;&#9866;&#9866;&#9866;&#9866;&#9866;&#9866;&#9866;&#9866;&#9866;&#9866;&#9866;&#9866;&#9866;&#9866;&#9866;"
   ]
  },
  {
   "cell_type": "markdown",
   "metadata": {
    "collapsed": true
   },
   "source": [
    "## The steps below assume you have created a new soil and landcover GI design.\n",
    "This cell imports the necessary python libraries for the notebook "
   ]
  },
  {
   "cell_type": "code",
   "execution_count": null,
   "metadata": {
    "collapsed": false
   },
   "outputs": [],
   "source": [
    "import os\n",
    "import logging\n",
    "from utilities import hydroshare\n",
    "import shutil\n",
    "from utilities.rhessys import *\n",
    "%matplotlib inline\n",
    "\n",
    "print 'Finished Step'"
   ]
  },
  {
   "cell_type": "markdown",
   "metadata": {},
   "source": [
    "The **`RHESSysWorkflow`** class is provided as part of the `rhessys` library (imported above) to streamline your interaction with the `RHESSysWorkflows` [core functions](https://github.com/selimnairb/RHESSysWorkflows).\n",
    " <br>\n",
    "\n",
    "Create an instance of the `RHESSysWorkflow` class and assign it to the variable `w`. <br>\n",
    "This command will create a directory for the given **project name** of `my_workflow` in the JupyterHub's default data directory. **If the directory exists, you will be prompted to use, or overwrite.** <br>\n",
    "This notebook, a custom gage is used for **gageid**. <br>\n",
    "A start date of **2008-01-01**, and an end date of **2010-01-01**. "
   ]
  },
  {
   "cell_type": "code",
   "execution_count": null,
   "metadata": {
    "collapsed": false
   },
   "outputs": [],
   "source": [
    "w = RHESSysWorkflow(project_name='my_GIworkflow_02_03_17', \n",
    "                    gageid='custom',\n",
    "                    start_date='2008-01-01',\n",
    "                    end_date='2010-01-01'\n",
    "                    )\n",
    "\n",
    "print 'Finished Step'"
   ]
  },
  {
   "cell_type": "markdown",
   "metadata": {},
   "source": [
    "The RHESSysWorkflow class uses a logging library to document output and errors. We can display these messages in our notebook by attaching to the logger and redirecting the output to stdout. While this step is not necessary, it will provide us with more verbose output."
   ]
  },
  {
   "cell_type": "code",
   "execution_count": null,
   "metadata": {
    "collapsed": false
   },
   "outputs": [],
   "source": [
    "# Get root logger for RHESSysWorkflow and set the output to stdout\n",
    "root_logger = logging.getLogger()\n",
    "root_logger.addHandler(logging.StreamHandler(sys.stdout))\n",
    "\n",
    "print 'Finished Step'"
   ]
  },
  {
   "cell_type": "markdown",
   "metadata": {},
   "source": [
    "## Retrieve data from HydroShare Resource\n",
    "\n",
    "The first step to retrieve a resource from HydroShare is to create a connection as follows: <br>\n",
    "**Note** you may be required to enter your credentials."
   ]
  },
  {
   "cell_type": "code",
   "execution_count": null,
   "metadata": {
    "collapsed": false
   },
   "outputs": [],
   "source": [
    "hs = hydroshare.hydroshare()\n",
    "\n",
    "print 'Finished Step'"
   ]
  },
  {
   "cell_type": "markdown",
   "metadata": {},
   "source": [
    "The UNC Institute for the Environment has prepared a HydroShare Resource for **Dead Run 5 watershed, Baltimore County, Maryland, USA** [with rain gardens](https://www.hydroshare.org/resource/6dbb0dfb8f3a498881e4de428cb1587c/) \n",
    "<br>\n",
    "\n",
    "\n",
    "If you follow the web link, or move your mouse cursor over the above web link, you will note the web link has nas numbers and text after **https://www.hydroshare.org/resource/**. This text string is a **resource-id**. Here the resource id is **c397f68fbc9847d6a717b0a2c2fe7671** and is needed to retrieve the resource from HydroShare. <br>\n",
    "<br>\n",
    "**Note:**  <br>\n",
    "[1] If you use are using this notebook as a template for another **resource-id**, cells below, marked with &#9971; ,indicate where users will need to modify the cell to work with their data.  <br>\n",
    "[2] If you have used this **resource-id** before in your userspace, you will be prompted to overwrite this data. <br>\n"
   ]
  },
  {
   "cell_type": "code",
   "execution_count": null,
   "metadata": {
    "collapsed": false
   },
   "outputs": [],
   "source": [
    "resource_id = '6dbb0dfb8f3a498881e4de428cb1587c'\n",
    "content = hs.getResourceFromHydroShare(resource_id)\n",
    "\n",
    "print 'Finished Step'"
   ]
  },
  {
   "cell_type": "markdown",
   "metadata": {},
   "source": [
    "After the resource has finished downloading, the next step is to unzip the folder in your workspace. <br>\n",
    "We know the name of the zipped file `ws18.zip` from the above step. <br>\n",
    "\n",
    "&#9971; If you are using a different resource, you will be required to change the **hs.content['ws18.zip']**, line below. <br>\n",
    "Here, a new folder called `RHESSys_ETV` is created in the **workspace folder** created by the **RHESSysWorkflow object** to keep the data in a separate location from the following steps. The **zipname** variable, is the name defined in hs.content[\"MY_FILE\"]. "
   ]
  },
  {
   "cell_type": "code",
   "execution_count": null,
   "metadata": {
    "collapsed": false
   },
   "outputs": [],
   "source": [
    "#########################################################\n",
    "## Variables used in cells below\n",
    "zipfolder = w.sub_project_folder + '/RHESSys_ETV'\n",
    "zipname = 'DR5_3m_nonburned_DEM_rain_duration_DEM_float_lctest_raingarden'\n",
    "\n",
    "#########################################################\n",
    "## Commands\n",
    "## Create Folder\n",
    "w.create_path(zipfolder)\n",
    "## name of zip file and path\n",
    "zipfilepathname = hs.content[zipname + '.zip']\n",
    "## Unzip the file\n",
    "w.unzip_etv_zip_file_at_path(zipfilepathname, zipfolder)\n",
    "\n",
    "print 'Finished Step'"
   ]
  },
  {
   "cell_type": "markdown",
   "metadata": {},
   "source": [
    "## Register DEM\n",
    "\n",
    "The **os.environ[\"GDAL_DATA\"]** indicates to PYTHON where the GDAL installation is. If you have compiled GDAL (i.e. for specialized libraries) in your environment, change this value.\n",
    "<br/><br/>\n",
    "\n",
    "**RegisterDEM** will result in the DEM being copied to your project directory, and the DEM spatial resolution will determine the default spatial resolution of your project (i.e. other rasters imported to your project will by default be resampled to the match the DEM resolution and spatial reference). Also, the DEM extent will be used to determine the bounding box for the study area; a polygon of the DEM extent will be generated and saved as a shapefile in your project directory.\n",
    "<br/><br/>\n",
    "&#9971; **Note: ** Change the `dem_name` variable below to match the DEM within your resource.\n"
   ]
  },
  {
   "cell_type": "code",
   "execution_count": null,
   "metadata": {
    "collapsed": false
   },
   "outputs": [],
   "source": [
    "#########################################################\n",
    "## Variables\n",
    "## Note dependency of variables [zipfolder, zipname] defined above \n",
    "\n",
    "os.environ[\"GDAL_DATA\"] = \"/opt/conda/share/gdal\"\n",
    "dem_name = 'DEM.tif'\n",
    "\n",
    "demfile = zipfolder + '/' + zipname + '/' + dem_name\n",
    "options = \" -p \" + w.sub_project_folder + \" -d \" + demfile + \" -b \\\"DEM\\\"\"\n",
    "\n",
    "#########################################################\n",
    "## Commands\n",
    "w.RegisterDEM(w.sub_project_folder, demfile)\n",
    "\n",
    "print 'Finished Step'"
   ]
  },
  {
   "cell_type": "markdown",
   "metadata": {},
   "source": [
    "## Import Gage\n",
    "We will use the **RegisterGage** tool to tell EcohydroLib the coordinates of the streamflow gage. This tool takes as input a point shapefile containing one or more points; the WGS84 lat-lon coordinates for the desired gage will be extracted from the shapefile. These coordinates will be written to the metadata store, and a new point shapefile containing a point only for the selected gage will be created in the project directory. <br/><br/>\n",
    "You will need to determine the **shape field** with the **id_attribute**. You can use GIS products from GDAL, ESRI, QGIS to determine these values.\n",
    "<br/>\n",
    "**Register streamflow gage** coordinates from a point shapefile into metadata store for a project directory, copying the shapefile into the project directory in the process <br/>\n",
    "<br/> <br/>\n",
    "&#9971; **Note: ** Change the `gage_name` variable below to match the gage shapefile within your resource.\n"
   ]
  },
  {
   "cell_type": "code",
   "execution_count": null,
   "metadata": {
    "collapsed": false
   },
   "outputs": [],
   "source": [
    "#########################################################\n",
    "## Variables\n",
    "## Note dependency of variables [zipfolder, zipname] defined above \n",
    "gage_name = 'gage.shp'\n",
    "\n",
    "gagefile = zipfolder + '/' + zipname + '/' + gage_name\n",
    "## The name of the layer within the gage shapefile where gage points are located.\n",
    "layername = 'gage'\n",
    "## The name of the attribute field that uniquely identifies gage points.\n",
    "id_attribute = 'gage_id'\n",
    "## The gage ID that uniquely identifies the gage point.\n",
    "id_value = '01589312'\n",
    "\n",
    "#########################################################\n",
    "## Commands\n",
    "w.RegisterGage(w.sub_project_folder, gagefile, layername, id_attribute, id_value)\n",
    "\n",
    "print 'Finished Step'"
   ]
  },
  {
   "cell_type": "markdown",
   "metadata": {},
   "source": [
    "## Retrieve GI Soil Design\n",
    "\n",
    "This step retrieves the GI soil dataset from the GI web services. <br>\n"
   ]
  },
  {
   "cell_type": "code",
   "execution_count": null,
   "metadata": {
    "collapsed": false
   },
   "outputs": [],
   "source": [
    "#########################################################\n",
    "## Variables\n",
    "## Note dependency of variables [zipfolder] defined above \n",
    "soil_zipfolder = zipfolder + '/GI_Soils'\n",
    "\n",
    "#########################################################\n",
    "## Commands\n",
    "##print(soil_download_url);\n",
    "## Note constant from GI web service\n",
    "zipfilepathname = 'GI_Soil.zip'\n",
    "input_location = soil_zipfolder + '/' + zipfilepathname\n",
    "\n",
    "w.create_path(soil_zipfolder)\n",
    "\n",
    "!wget $soil_download_url -P $soil_zipfolder\n",
    "w.unzip_etv_zip_file_at_path(input_location, soil_zipfolder)\n",
    "\n",
    "print 'Finished Step'"
   ]
  },
  {
   "cell_type": "markdown",
   "metadata": {},
   "source": [
    "By default, the GI web services creates a GI soil shapefile called 'MapunitPolyExtended.shp'.<br>\n",
    "These files need to be copied to the **project directory**"
   ]
  },
  {
   "cell_type": "code",
   "execution_count": null,
   "metadata": {
    "collapsed": false
   },
   "outputs": [],
   "source": [
    "#########################################################\n",
    "## Variables\n",
    "## Note dependency of variables [zipfolder] defined above \n",
    "\n",
    "\n",
    "#########################################################\n",
    "## Commands\n",
    "soil_filename = 'MapunitPolyExtended'   ##Constant Name\n",
    "soil_fullpathname_Src = soil_zipfolder\n",
    "soil_fullpathname_Dec = w.sub_project_folder\n",
    "\n",
    "for filename in os.listdir(soil_fullpathname_Src):\n",
    "    if(filename.startswith(soil_filename)):\n",
    "        shutil.copy(soil_fullpathname_Src + '/' + filename, soil_fullpathname_Dec)\n",
    "\n",
    "print 'Finished Step'"
   ]
  },
  {
   "cell_type": "markdown",
   "metadata": {},
   "source": [
    "The RHESSys workflows automatically adds metadata required by the proceeding functions/tools. If the user has created a new GI Soil data layer, she/he will need to modify the metadata to include soils. <br>\n",
    "<br>\n",
    "The **[GI_Soil.py](https://github.com/leonard-psu/JUPYTER-Notebooks/blob/master/GI_Soil.py) ** python script does this for you. The **inputs** are: <br>\n",
    "[1] **-s** MapunitPolyExtended.shp, the name of the soil shapefile. <br>\n",
    "[2] **-p** The directory to which metadata, intermediate, and final files should be saved.<br>\n",
    "[3] **--overwrite** Overwrite existing SSURGO features shapefile in project directory.  If not specified, program will halt if a dataset already exists.<br>"
   ]
  },
  {
   "cell_type": "code",
   "execution_count": null,
   "metadata": {
    "collapsed": false
   },
   "outputs": [],
   "source": [
    "#########################################################\n",
    "## Variables\n",
    "## Note dependency of variables [zipfolder] defined above \n",
    "soil_python_location = '/home/jovyan/work/notebooks/GI_Soil.py'\n",
    "\n",
    "#########################################################\n",
    "## Commands\n",
    "soil_shapefile = 'MapunitPolyExtended.shp' ##Constant from web service\n",
    "python_file_and_inputs = soil_python_location + ' -s ' + soil_shapefile + ' --overwrite -p ' + w.sub_project_folder\n",
    "print(python_file_and_inputs)\n",
    "%run $python_file_and_inputs\n",
    "\n",
    "print 'Finished Step'"
   ]
  },
  {
   "cell_type": "markdown",
   "metadata": {},
   "source": [
    "## Generate Soil Properties From SSURGO\n",
    "Get SSURGO features for a bounding box. The following attributes will be rasterized: ['ksat', 'pctClay', 'pctSilt', 'pctSand', 'porosity', 'fieldCap', 'avlWatCap', 'drnWatCont', 'brockdepmin']. Features with null values for a particular attribute will receive a raster value of 0.\n"
   ]
  },
  {
   "cell_type": "code",
   "execution_count": null,
   "metadata": {
    "collapsed": false
   },
   "outputs": [],
   "source": [
    "#########################################################\n",
    "## Commands\n",
    "output = w.GenerateSoilPropertyRastersFromSSURGO(w.sub_project_folder)\n",
    "#print(output)\n",
    "\n",
    "print 'Finished Step'"
   ]
  },
  {
   "cell_type": "markdown",
   "metadata": {},
   "source": [
    "## Retrieve GI Landcover Design\n",
    "\n",
    "This step retrieves the GI landcover dataset from the GI web services. <br>\n"
   ]
  },
  {
   "cell_type": "code",
   "execution_count": null,
   "metadata": {
    "collapsed": false
   },
   "outputs": [],
   "source": [
    "#########################################################\n",
    "## Variables\n",
    "## Note dependency of variables [zipfolder] defined above \n",
    "lc_zipfolder = zipfolder + '/GI_Landuse'\n",
    "\n",
    "#########################################################\n",
    "## Commands\n",
    "##print(landuse_download_url);\n",
    "## Note constant from GI web service\n",
    "zipfilepathname = 'GI_Landuse.zip'\n",
    "input_location = lc_zipfolder + '/' + zipfilepathname\n",
    "\n",
    "w.create_path(lc_zipfolder)\n",
    "\n",
    "!wget $landuse_download_url -P $lc_zipfolder\n",
    "w.unzip_etv_zip_file_at_path(input_location, lc_zipfolder)\n",
    "\n",
    "print 'Finished Step'"
   ]
  },
  {
   "cell_type": "code",
   "execution_count": null,
   "metadata": {
    "collapsed": false
   },
   "outputs": [],
   "source": [
    "#########################################################\n",
    "## Variables\n",
    "## Note dependency of variables [zipfolder] defined above \n",
    "lc_zipfolder = zipfolder + '/GI_Landuse'\n",
    "lc_name = 'GI_LandCover.tif'\n",
    "\n",
    "raster_type = 'landcover'\n",
    "raster_sample = 'bilinear'\n",
    "lc_fullpathname =  lc_zipfolder + '/' + lc_name\n",
    "\n",
    "options = \" -p \" + w.sub_project_folder + \" -t \" + raster_type + \" -r \" + lc_fullpathname + \" --force -s \" + raster_sample\n",
    "\n",
    "#########################################################\n",
    "## Commands\n",
    "w.RegisterRasterOptions(options)\n",
    "\n",
    "print 'Finished Step'"
   ]
  },
  {
   "cell_type": "markdown",
   "metadata": {},
   "source": [
    "## Register LAI\n",
    "Here the resource or user supplied **LAI** is registered.\n",
    "<br/> <br/>\n",
    "&#9971; **Note: ** Change the `lai_name` variable below to match the LAI raster dataset within your resource. Skip this step, if your resource has no LAI."
   ]
  },
  {
   "cell_type": "code",
   "execution_count": null,
   "metadata": {
    "collapsed": false
   },
   "outputs": [],
   "source": [
    "#########################################################\n",
    "## Variables\n",
    "## Note dependency of variables [zipfolder, zipname] defined above \n",
    "lai_name = 'lai.tif'\n",
    "\n",
    "lai_file = zipfolder + '/' + zipname + '/' + lai_name\n",
    "\n",
    "raster_type = 'lai'\n",
    "raster_sample = 'bilinear'\n",
    "\n",
    "options = \" -p \" + w.sub_project_folder + \" -t \" + raster_type + \" -r \" + lai_file + \" --force -s \" + raster_sample\n",
    "\n",
    "#########################################################\n",
    "## Commands\n",
    "w.RegisterRasterOptions(options)\n",
    "\n",
    "print 'Finished Step'"
   ]
  },
  {
   "cell_type": "markdown",
   "metadata": {},
   "source": [
    "## Create a new GRASS GIS Location\n",
    "\n",
    "RHESSys requires that all spatial data used to create a world file and flow table for a RHESSys model be stored in a GRASS GIS mapset. We'll start building these data in RHESSysWorkflows by creating a new GRASS location and mapset within our project directory, and importing our DEM into this mapset using the **CreateGRASSLocationFromDEM** tool. <br/>\n",
    "<br/> <br/>\n",
    "&#9971; **Note: ** Change the `description` variable below to match your resource description."
   ]
  },
  {
   "cell_type": "code",
   "execution_count": null,
   "metadata": {
    "collapsed": false
   },
   "outputs": [],
   "source": [
    "#########################################################\n",
    "## Variables\n",
    "description = '\"Dead Run 5 near Catonsville, 3m model\"'\n",
    "\n",
    "#########################################################\n",
    "## Commands\n",
    "output = w.CreateGRASSLocationFromDEM(w.sub_project_folder, description)\n",
    "#print(output)\n",
    "\n",
    "print 'Finished Step'"
   ]
  },
  {
   "cell_type": "markdown",
   "metadata": {},
   "source": [
    "## Import RHESSys Code\n",
    "To create worldfiles and flow tables RHESSysWorkflows needs a copy of RHESSys source code. RHESSysWorkflows also uses the new RHESSys ParamDB database and Python libraries to generate vegetation, soil, land use and other parameters needed by RHESSys. RHESSysWorkflows is only compatible with the pre-release version of RHESSys 5.16 and later versions of the code. At present, and for first-time users, the most reliable way to import ParamDB and RHESSys source code into your project is to download the code from GitHub using the **ImportRHESSysSource** tool. However, this tool is also capable of importing RHESSys source code stored on your computer. This allows you to import the code from a previous RHESSysWorkflows project; ParamDB is always downloaded from GitHub, even when RHESSys source code is imported from a local source.\n",
    "\n",
    "The `ImportRHESSysSource` function downloads and compiles the latest [RHESSys](https://github.com/RHESSys/RHESSys) source code in the user defined project folder. This make take a couple minutes.   "
   ]
  },
  {
   "cell_type": "code",
   "execution_count": null,
   "metadata": {
    "collapsed": false
   },
   "outputs": [],
   "source": [
    "#########################################################\n",
    "## Commands\n",
    "\n",
    "output = w.ImportRHESSysSource(w.sub_project_folder)\n",
    "#print(output)\n",
    "\n",
    "print 'Finished Step'"
   ]
  },
  {
   "cell_type": "markdown",
   "metadata": {},
   "source": [
    "## Import Climate Data\n",
    "\n",
    "Because of the great variability of climate data formats, and the complexity of time-series workflows, we have chosen to focus development effort on RHESSysWorkflows toward making it easier to acquire and manipulate geospatial data required for building RHESSys work files and flow tables. This means that the modeler is responsible for building the climate data necessary for building RHESSys world files and performing model runs.\n",
    "\n",
    "RHESSysWorkflows provides the **ImportClimateData** tool to import RHESSys climate data into your project.\n"
   ]
  },
  {
   "cell_type": "code",
   "execution_count": null,
   "metadata": {
    "collapsed": false
   },
   "outputs": [],
   "source": [
    "#########################################################\n",
    "## Variables\n",
    "## Note dependency of variables [zipfolder, zipname] defined above \n",
    "climate_name = 'rhessys/clim'\n",
    "\n",
    "climate_file = zipfolder + '/' + zipname + '/' + climate_name\n",
    "\n",
    "w.climate_data_fullpathname = climate_file;\n",
    "#########################################################\n",
    "## Commands\n",
    "output = w.ImportClimateData(w.sub_project_folder, w.climate_data_fullpathname)\n",
    "#print(output)\n",
    "\n",
    "print 'Finished Step'"
   ]
  },
  {
   "cell_type": "markdown",
   "metadata": {},
   "source": [
    "## Delineate Watershed\n",
    "RHESSysWorkflows automates the process of delineating your study watershed based on the location of the streamflow gage registered in the workflow using EcohydroLib. As part of this process, many datasets needed by RHESSys will be derived from the DEM. To delineate the watershed we use the **DelineateWatershed** tool.\n",
    "\n",
    "Here the **cell_size** parameter specifies the minimum size (in DEM cells) for subwatersheds generated by the GRASS command r.watershed.\n",
    "\n",
    "The **area_estimate** parameter allows you to provide a guess of the area (in sq. km) of the delineated watershed. DelineateWatershed will report whether the watershed is within 20% of the area. You can view the delineated watershed in GRASS by displaying the raster map named basin. If the area or the shape of the delineated watershed differs greatly from what you expect, you may need to vary how DelineateWatershed snaps your streamflow gage onto the stream network. This is accomplished by either changing the -s (a.k.a. --streamThreshold) or stream threshold parameter and/or the -w (a.k.a. --streamWindow) parameter passed to r.findtheriver.\n",
    "<br/> <br/>\n",
    "&#9971; **Note: ** Change the `cell_size` and `area_estimate` variables below to match your resource watershed property. Uncomment the `print(output)` statement to evaluate the area estimate.## Step 9 Delineate Watershed"
   ]
  },
  {
   "cell_type": "code",
   "execution_count": null,
   "metadata": {
    "collapsed": false
   },
   "outputs": [],
   "source": [
    "#########################################################\n",
    "## Variables\n",
    "\n",
    "cell_size = 3000\n",
    "area_estimate = 1.0\n",
    "\n",
    "#########################################################\n",
    "## Commands\n",
    "output = w.DelineateWatershed(w.sub_project_folder, cell_size, area_estimate)\n",
    "print(output)\n",
    "\n",
    "print 'Finished Step'"
   ]
  },
  {
   "cell_type": "markdown",
   "metadata": {},
   "source": [
    "## Generate Patch Map\n",
    "\n",
    "RHESSysWorkflows provides **GeneratePatchMap**, an automated tool for creating gridded and clumped patch maps. Gridded patch maps consist of a regular grid of the same resolution and extent as the DEM; clumped maps can be created using elevation or topographic wetness index rasters. Modelers can also use custom patch maps registered via EcohydroLib's RegisterRaster tool and imported into GRASS using ImportRasterMapIntoGRASS. <br>\n",
    "<br>\n",
    "<br>\n",
    "**Options** include the following: <br>\n",
    "**-t {grid,clump}**             Type of patch to be generated: uniform grid or clumps based on elevation. <br>\n",
    "**-c {elevation,wetness_index}**             Type of patch to be generated: uniform grid or clumps based on elevation.<br>\n",
    "**-z**             Use patch map as zone map even if zone map is already defined. By default if a zone map is present, this script will not set the patch map as the zone map.<br>\n",
    "**--overwrite**           Overwrite existing datasets in the GRASS mapset. If not specified, program will halt if a dataset already exists.<br>"
   ]
  },
  {
   "cell_type": "code",
   "execution_count": null,
   "metadata": {
    "collapsed": false
   },
   "outputs": [],
   "source": [
    "#########################################################\n",
    "## Variables\n",
    "grid_options =  \" -t grid --overwrite\"\n",
    "\n",
    "patch_options = \" -p \" + w.sub_project_folder + grid_options\n",
    "\n",
    "#########################################################\n",
    "## Commands\n",
    "output = w.GeneratePatchMapOptions(patch_options)\n",
    "#print(output)\n",
    "\n",
    "print 'Finished Step'"
   ]
  },
  {
   "cell_type": "markdown",
   "metadata": {},
   "source": [
    "## Process Soil Texture Map\n",
    "\n",
    "Since we used EcohydroLib's SSURGO tools to generate percent sand and percent clay raster maps for our watershed, we can use the GRASS add-on r.soils.texture to generate USDA soil texture classes, for which RHESSys's ParamDB contains parameters. It is also possible to use custom soil maps (refer to the Tutorial).\n",
    "\n",
    "To generate our soil texture map in GRASS, as well as the corresponding RHESSys soil definition files, use the **GenerateSoilTextureMap** tool as follows: <br>\n",
    "<br>\n",
    "<br>\n",
    "**Options** include the following: <br>\n",
    "**--defonly**             Only generate soil definition files, do not try to create soil texture map. Map must already exist. <br>\n",
    "**--overwrite**           Overwrite existing datasets in the GRASS mapset. If not specified, program will halt if a dataset already exists.<br>"
   ]
  },
  {
   "cell_type": "code",
   "execution_count": null,
   "metadata": {
    "collapsed": false
   },
   "outputs": [],
   "source": [
    "#########################################################\n",
    "## Variables\n",
    "soil_options =  \" --overwrite\"\n",
    "\n",
    "#########################################################\n",
    "## Commands\n",
    "output = w.GenerateSoilTextureMap(w.sub_project_folder, options=soil_options)\n",
    "#print(output)\n",
    "\n",
    "print 'Finished Step'"
   ]
  },
  {
   "cell_type": "markdown",
   "metadata": {},
   "source": [
    "## Register Leaf Coverage\n",
    "Here the resource or user supplied **Lead Coverage** is registered.\n",
    "<br/> <br/>\n",
    "\n",
    "**Register raster** into metadata store for a project directory,\n",
    "copying the raster into the project directory in the process. <br/> <br/>\n",
    "**Raster type** must be one of ** landcover,roof_connectivity,soil,lai,patch,zone,isohyet,leafc,rootdepth,roads,stream_burned_dem ** <br/> <br/>\n",
    "**resampleMethod ** Method to use to resample raster to DEM extent and spatial reference (if necessary). Defaults to 'near'. **{near,bilinear,cubic,cubicspline,lanczos,average,mode}**\n",
    "<br/> <br/>\n",
    "\n",
    "&#9971; **Note: ** Change the `leafc_name` variable below to match the LAI raster dataset within your resource. Skip this step, if your resource has no LAI."
   ]
  },
  {
   "cell_type": "code",
   "execution_count": null,
   "metadata": {
    "collapsed": false
   },
   "outputs": [],
   "source": [
    "#########################################################\n",
    "## Variables\n",
    "## Note dependency of variables [zipfolder, zipname] defined above \n",
    "leafc_name = 'leafc.tif'\n",
    "\n",
    "leafc_file = zipfolder + '/' + zipname + '/' + leafc_name\n",
    "\n",
    "raster_type = 'leafc'\n",
    "raster_sample = 'bilinear'\n",
    "\n",
    "options = \" -p \" + w.sub_project_folder + \" -t \" + raster_type + \" -r \" + leafc_file + \" --force -s \" + raster_sample\n",
    "\n",
    "#########################################################\n",
    "## Commands\n",
    "w.RegisterRasterOptions(options)\n",
    "\n",
    "print 'Finished Step'"
   ]
  },
  {
   "cell_type": "markdown",
   "metadata": {},
   "source": [
    "## Register Root Depth\n",
    "Here the resource or user supplied **rootdepth** is registered.\n",
    "<br/>"
   ]
  },
  {
   "cell_type": "code",
   "execution_count": null,
   "metadata": {
    "collapsed": false
   },
   "outputs": [],
   "source": [
    "#########################################################\n",
    "## Variables\n",
    "## Note dependency of variables [zipfolder, zipname] defined above \n",
    "rootdepth_name = 'rootdepth.tif'\n",
    "\n",
    "rootdepth_name_file = zipfolder + '/' + zipname + '/' + rootdepth_name\n",
    "\n",
    "raster_type = 'rootdepth'\n",
    "raster_sample = 'bilinear'\n",
    "\n",
    "options = \" -p \" + w.sub_project_folder + \" -t \" + raster_type + \" -r \" + rootdepth_name_file + \" --force -s \" + raster_sample\n",
    "\n",
    "#########################################################\n",
    "## Commands\n",
    "w.RegisterRasterOptions(options)\n",
    "\n",
    "print 'Finished Step'"
   ]
  },
  {
   "cell_type": "markdown",
   "metadata": {},
   "source": [
    "## Generate derived landcover maps\n",
    "\n",
    "Now we generating LAI, isohyet, roads and landcover maps from your project directory into GRASS using the **ImportRasterMapIntoGRASS** tool. <br>\n",
    "**--type** {all,landcover,roof_connectivity,soil,lai,patch,zone,isohyet,leafc,rootdepth,roads,stream_burned_dem}  <br>\n",
    "**--method** {none,nearest,bilinear,bicubic} <br>\n",
    "<br/> <br/>\n",
    "&#9971; **Note: ** Skip any **ImportRasterMapIntoGRASS** steps below if you did not register the rasters above."
   ]
  },
  {
   "cell_type": "code",
   "execution_count": null,
   "metadata": {
    "collapsed": false
   },
   "outputs": [],
   "source": [
    "#########################################################\n",
    "## Variables\n",
    "raster_type = 'landcover'\n",
    "raster_sample = 'nearest'\n",
    "\n",
    "#########################################################\n",
    "## Commands\n",
    "output = w.ImportRasterMapIntoGRASS(w.sub_project_folder, raster_type, raster_sample)\n",
    "#print(output)\n",
    "\n",
    "print 'Finished Step'"
   ]
  },
  {
   "cell_type": "code",
   "execution_count": null,
   "metadata": {
    "collapsed": false
   },
   "outputs": [],
   "source": [
    "#########################################################\n",
    "## Variables\n",
    "raster_type = 'lai'\n",
    "raster_sample = 'nearest'\n",
    "\n",
    "#########################################################\n",
    "## Commands\n",
    "output = w.ImportRasterMapIntoGRASS(w.sub_project_folder, raster_type, raster_sample)\n",
    "#print(output)\n",
    "\n",
    "print 'Finished Step'"
   ]
  },
  {
   "cell_type": "code",
   "execution_count": null,
   "metadata": {
    "collapsed": false
   },
   "outputs": [],
   "source": [
    "#########################################################\n",
    "## Variables\n",
    "raster_type = 'leafc'\n",
    "raster_sample = 'nearest'\n",
    "\n",
    "#########################################################\n",
    "## Commands\n",
    "output = w.ImportRasterMapIntoGRASS(w.sub_project_folder, raster_type, raster_sample)\n",
    "#print(output)\n",
    "\n",
    "print 'Finished Step'"
   ]
  },
  {
   "cell_type": "code",
   "execution_count": null,
   "metadata": {
    "collapsed": false
   },
   "outputs": [],
   "source": [
    "#########################################################\n",
    "## Variables\n",
    "raster_type = 'rootdepth'\n",
    "raster_sample = 'nearest'\n",
    "\n",
    "#########################################################\n",
    "## Commands\n",
    "output = w.ImportRasterMapIntoGRASS(w.sub_project_folder, raster_type, raster_sample)\n",
    "#print(output)\n",
    "\n",
    "print 'Finished Step'"
   ]
  },
  {
   "cell_type": "code",
   "execution_count": null,
   "metadata": {
    "collapsed": false
   },
   "outputs": [],
   "source": [
    "#########################################################\n",
    "## Variables\n",
    "raster_type = 'roof_connectivity'\n",
    "raster_sample = 'nearest'\n",
    "\n",
    "#########################################################\n",
    "## Commands\n",
    "output = w.ImportRasterMapIntoGRASS(w.sub_project_folder, raster_type, raster_sample)\n",
    "#print(output)\n",
    "\n",
    "print 'Finished Step'"
   ]
  },
  {
   "cell_type": "markdown",
   "metadata": {},
   "source": [
    "## Register landcover Rules\n",
    "\n",
    "The RegisterLandcoverReclassRules function generates landcover raster map reclassification rules ( stratum, landuse, impervious, road, lai-recode ) which are then used by the GenerateLandcoverMaps function to generate derived landscover data for RHESSys.\n",
    "<br/><br/>\n",
    "**-k, --generateKnownRules** Generate rules for known landcover type; known types include: ['NLCD2006', 'NLCD2011'] <br/>\n",
    "**-b, --buildPrototypeRules** Write prototype landcover reclass rules to the project directory. You must edit these rules to match the classes in your own landcover data <br/>\n",
    "**-r RULEDIR, --ruleDir RULEDIR** The directory where landcover reclass rules can be found; should contain these files ['road.rule', 'impervious.rule','landuse.rule', 'stratum.rule', 'lai-recode.rule'] <br/>\n",
    "**-l, --includeLaiRules** Make LAI map <br/>\n",
    "<br/> <br/>\n",
    "&#9971; **Note: ** Modify **landcover_options** below to match your data inputs."
   ]
  },
  {
   "cell_type": "code",
   "execution_count": null,
   "metadata": {
    "collapsed": false
   },
   "outputs": [],
   "source": [
    "#########################################################\n",
    "## Variables\n",
    "landcover_options =  \" -b --includeLaiRules\"\n",
    "\n",
    "options = \" -p \" + w.sub_project_folder + landcover_options\n",
    "\n",
    "#########################################################\n",
    "## Commands\n",
    "output = w.RegisterLandcoverReclassRulesOptions(options)\n",
    "#print(output)\n",
    "\n",
    "print 'Finished Step'"
   ]
  },
  {
   "cell_type": "markdown",
   "metadata": {},
   "source": [
    "Once the landcover reclass rules are in place, it is very easy to generate the raster maps derived from the landcover data as well as the vegetation and land use definition files needed by RHESSys using ***GenerateLandcoverMapsOptions*** tool.\n",
    "<br>\n",
    "<br>\n",
    "**Options** include the following: <br>\n",
    "**-l, --makeLaiMap**      Make LAI map <br>\n",
    "**--skipRoads**           Do not make roads map <br>\n",
    "**--defonly**             Only generate landuse and stratum definition files, do not try to create maps. Maps must already exist. <br>\n",
    "**--overwrite**           Overwrite existing datasets in the GRASS mapset. If not specified, program will halt if a dataset already exists.<br>\n",
    "<br/> <br/>\n",
    "&#9971; **Note: ** Modify **landcover_options** below to match your data inputs.\n"
   ]
  },
  {
   "cell_type": "code",
   "execution_count": null,
   "metadata": {
    "collapsed": false
   },
   "outputs": [],
   "source": [
    "#########################################################\n",
    "## Variables\n",
    "landcover_options =  \" --makeLaiMap --overwrite\"\n",
    "\n",
    "options = \" -p \" + w.sub_project_folder + landcover_options\n",
    "\n",
    "#########################################################\n",
    "## Commands\n",
    "output = w.GenerateLandcoverMapsOptions(options)\n",
    "#print(output)\n",
    "\n",
    "print 'Finished Step'"
   ]
  },
  {
   "cell_type": "markdown",
   "metadata": {},
   "source": [
    "## Generate World Template\n",
    "Now we are almost ready to create the world file for our watershed. First we must create the template from which the world file will be created. To do this, we'll use the **GenerateWorldTemplate** tool. Fortunately this is very easy because the metadata store contains nearly all the information needed to create the template.\n",
    "\n",
    "**Options** include the following: <br>\n",
    "**-c (a.k.a. --climateStation)**      The climate station to associate with the worldfile. Must be one of the climate stations specified in the \"climate_stations\" key in the \"rhessys\" section of the metadata<br>\n",
    "**--aspectMinSlopeOne**           Use slope map with a minimum value of 1.0 to be used for calculating spherical average aspect. Needed for areas of low slope due to limitations of RHESSys grass2world, which truncates slopes <1 to 0.0, which causes spherical average of <br> <br/>\n",
    "**-v, --verbose **        Print detailed information about what the program is doing<br>\n",
    "\n",
    "\n"
   ]
  },
  {
   "cell_type": "code",
   "execution_count": null,
   "metadata": {
    "collapsed": false
   },
   "outputs": [],
   "source": [
    "#########################################################\n",
    "## Variables\n",
    "## Note dependency of variables [zipfolder, zipname] defined above \n",
    "\n",
    "dir_src = zipfolder + '/' + zipname + '/'  + 'rhessys/defs/'\n",
    "dir_dst = w.sub_project_folder + '/rhessys/defs/'\n",
    "\n",
    "\n",
    "#########################################################\n",
    "## Commands\n",
    "for filename in os.listdir(dir_src):\n",
    "    if filename.endswith('.def'):\n",
    "        shutil.copy( dir_src + '/' + filename, dir_dst)\n",
    "\n",
    "print 'Finished Step'"
   ]
  },
  {
   "cell_type": "markdown",
   "metadata": {},
   "source": [
    "<br/> <br/>\n",
    "&#9971; **Note: ** Modify **world_template_options** below to match your climate data inputs."
   ]
  },
  {
   "cell_type": "code",
   "execution_count": null,
   "metadata": {
    "collapsed": false
   },
   "outputs": [],
   "source": [
    "#########################################################\n",
    "## Variables\n",
    "world_template_flags =  \" -c dr5_composite5\"\n",
    "world_template_options = \" -p \" + w.sub_project_folder + world_template_flags\n",
    "\n",
    "#########################################################\n",
    "## Commands\n",
    "output = w.GenerateWorldTemplateOptions(world_template_options)\n",
    "print(output)\n",
    "\n",
    "print 'Finished Step'"
   ]
  },
  {
   "cell_type": "markdown",
   "metadata": {},
   "source": [
    "## EDITS REQUIRED using vi at terminal window\n",
    "\n",
    "cd w.sub_project_folder/rhessys/defs <br>\n",
    "cp landuse_undeveloped.def landuse_test.def <br>\n",
    "cp stratum_deciduous_BES.def stratum_test.def <br>\n",
    "Using a text editor modify the template file. i.e. vi landuse_test.def <br>\n",
    "vi landuse_test.def Change the number of the first line to match the missing ID above. i.e. 0 Save File and Close <br>\n",
    "vi stratum_test.def Change the number of the first line to match the missing ID above. i.e. 0 Save File and Close <br>\n",
    "Change your directory to rhessys\\templates <br>\n",
    "cd w.sub_project_folder/rhessys/templates <br>\n",
    "Using a text editor modify the template file. i.e. vi template <br>\n",
    "Modify the number of defs/landuse definitions from 3 to 4. <br>\n",
    "Modify the number of defs/stratum_ definitions from 3 to 4. <br>\n",
    "Then add the new def file to the template. <br>\n"
   ]
  },
  {
   "cell_type": "markdown",
   "metadata": {},
   "source": [
    "Now use the **CreateWorldfile** tool to create a world file using this template. <br/>\n",
    "Note: Output from CreateWorldfile has been piped to output variable. For debugging, uncomment print statement (i.e. remove #)."
   ]
  },
  {
   "cell_type": "code",
   "execution_count": null,
   "metadata": {
    "collapsed": false
   },
   "outputs": [],
   "source": [
    "#########################################################\n",
    "## Commands\n",
    "output = w.CreateWorldfile(w.sub_project_folder)\n",
    "#print(output)\n",
    "\n",
    "print 'Finished Step'"
   ]
  },
  {
   "cell_type": "markdown",
   "metadata": {},
   "source": [
    "## Create Flow Table\n",
    "As with worldfile creation, at this point in the workflow, RHESSysWorkflows's metadata store contains all the information needed to create a flow table using the createflowpaths (CF) RHESSys program. We'll use CreateFlowtable to create our flow table.\n",
    "<br><br>\n",
    "This will result in the creation of a flow table called world.flow in the flow directory of your rhessys directory. Now we have almost everything we need to run RHESSys simulations.\n",
    "<br><br>\n",
    "See the RHESSysWorkflows tutorial to learn how to [route surface flows for road pixels directly to the stream](https://github.com/selimnairb/RHESSysWorkflows#creating-the-flow-table) and [create surface flow tables using a roof connectivity map](https://github.com/selimnairb/RHESSysWorkflows#creating-a-surface-flow-table-using-a-roof-connectivity-map)\n",
    "<br>\n",
    "<br>\n",
    "**Options** include the following: <br>\n",
    "**--routeRoads**      Tell createflowpaths to route flow from roads to the nearest stream pixel (requires roads_rast to be defined in metadata)<br>\n",
    "**--routeRoofs** Tell createflowpaths to route flow from roof tops based on roof top connectivity to nearest impervious surface\n",
    "(requires roof_connectivity_rast and impervious_rast to be defined in metadata)<br>\n",
    "**-f, --force ** Run createflowpaths even if DEM x resolution does not match y resolution<br>\n",
    "**--ignoreBurnedDEM ** Ignore stream burned DEM, if present. Default DEM raster will be used for all operations. If not specified and if stream burned raster is present, stream burned DEM will be used for generating the flow table.<br>\n",
    "**-v, --verbose **        Print detailed information about what the program is doing<br>\n",
    "\n",
    "\n",
    "<br/> <br/>\n",
    "&#9971; **Note: ** Modify **flow_table_options** below to match your data inputs."
   ]
  },
  {
   "cell_type": "code",
   "execution_count": null,
   "metadata": {
    "collapsed": false
   },
   "outputs": [],
   "source": [
    "#########################################################\n",
    "## Variables\n",
    "flow_table_flags = \" --routeRoads -v\"\n",
    "flow_table_options = \" -p \" + w.sub_project_folder + flow_table_flags\n",
    "\n",
    "#########################################################\n",
    "## Commands\n",
    "output = w.CreateFlowtableOptions(flow_table_options)\n",
    "print(output)\n",
    "\n",
    "print 'Finished Step'"
   ]
  },
  {
   "cell_type": "markdown",
   "metadata": {},
   "source": [
    "## Initializing vegetation carbon and nitrogen stores\n",
    "RHESSys provides a program called LAIread to initialize vegetation carbon and nitrogen stores in your world file.<br>\n",
    "<br>\n",
    "Initializing carbon and nitrogen stores is a multi-step process that involves running LAI read to generate a redefine worldfile, running a 3-day RHESSys simulation to incorporate the redefine worldfile, writing out a new worldfile with initialized vegetation carbon and nitrogen stores. RHESSysWorkflows automates all of these processes for you using the tool RunLAIRead, which can even figure out what date to start the 3-day RHESSys simulation on based on your climate data. <br>\n",
    "<br>\n",
    "### Note: The output below is long, however, it is recommended to scroll to the tail end of the output to check for error messages."
   ]
  },
  {
   "cell_type": "markdown",
   "metadata": {},
   "source": [
    "If the manual edits failed, users will see error messages here. <br>\n",
    "If errors occur, **Steps Create World File to Initializing vegetation carbon and nitrogen stores** will need to be repeated.\n"
   ]
  },
  {
   "cell_type": "code",
   "execution_count": null,
   "metadata": {
    "collapsed": false
   },
   "outputs": [],
   "source": [
    "#########################################################\n",
    "## Commands\n",
    "output = w.RunLAIRead(w.sub_project_folder)\n",
    "#print(output) ##OUTPUT VERY LONG\n",
    "\n",
    "print 'Finished Step'"
   ]
  },
  {
   "cell_type": "markdown",
   "metadata": {},
   "source": [
    "## Creating a RHESSys TEC file\n",
    "We need one more thing before we can run our model, a TEC file. TEC stands for \"temporal event controller\". We use a TEC file to tell RHESSys to do things on at certain times during a simulation."
   ]
  },
  {
   "cell_type": "code",
   "execution_count": null,
   "metadata": {
    "collapsed": false
   },
   "outputs": [],
   "source": [
    "#########################################################\n",
    "## Variables\n",
    "model_start = str(w.model_start_year) + ' ' + str(w.model_start_month) + ' ' + str(w.model_start_day) + ' 1'\n",
    "\n",
    "tec_file = \"tec_daily.txt\"\n",
    "tec_output_location = w.sub_project_folder + \"/rhessys/tecfiles/\" + tec_file\n",
    "tec_cmd = ' echo \"' + model_start + ' print_daily_on\" > '\n",
    "tec_flags = tec_cmd + tec_output_location\n",
    "tec_options = \" -p \" + w.sub_project_folder + tec_flags\n",
    "\n",
    "#########################################################\n",
    "## Commands\n",
    "output = w.RunCmdOptions(tec_options)\n",
    "print(output)\n",
    "\n",
    "print 'Finished Step'"
   ]
  },
  {
   "cell_type": "markdown",
   "metadata": {},
   "source": [
    "## Running RHESSys models\n",
    "Once you have built a RHESSys model using RHESSysWorkflows, you are free to run your model manually. However this will not capture information about model runs in your project metadata. If you would like to record your runs in your project metadata, use the **RunModel** command.\n",
    "\n",
    "\n",
    "Because the project metadata knows where RHESSys is installed in your project directory, you don't have to specify the full path of any of the RHESSys input files (e.g. world files, flow tables, TEC files, etc), you only need to specify the filenames. RunModel will echo RHESSys console outlet to the screen (if the -v or verbose option is specified as above), and will always save the same output into a file named 'rhessys.out' stored in the output folder for each model run. The output folder will be named based on the value you provide for the '-pre' or output prefix option. Model output is stored in the output directory of the rhessys directory of your project directory.\n",
    "\n",
    "For more details on using RunModel see the RHESSysWorkflows [tutorial](https://github.com/selimnairb/RHESSysWorkflows#running-rhessys-models).\n",
    "\n",
    "<br>\n",
    "<br>\n",
    "**Options** include the following: <br>\n",
    "**-d DESCRIPTION, --description** Description of the model run<br>\n",
    "**-pre OUTPUTPREFIX** Filename prefix to use for output files, relative to output directory in the RHESSys directory of the project<br>\n",
    "**-st STARTDATE STARTDATE STARTDATE STARTDATE** Start date and time of the model run, of the form \"YYYY M D H\"<br>\n",
    "**-ed ENDDATE ENDDATE ENDDATE ENDDATE** Date date and time of the model run, of the form \"YYYY M D H\".<br>\n",
    "**-w WORLDFILE** Filename of the tecfile to use for the model run, specified relative to the tec directory in the RHESSys directory of the projec<br>\n",
    "**-t TECFILE **        Filename of the tecfile to use for the model run, specified relative to the tec directory in the RHESSys directory of the project<br>\n",
    "**-r [FLOWTABLES [FLOWTABLES ...]]**Filename(s) of the flow table(s) to use for the model run, specified relative to the flowtable directory in the RHESSys directory of the project. If one flow table is supplied, it will be used for subsurface and surface routing. If two flow tables are supplied the first will be use for subsurface routing, the second for surface<br>\n",
    "**--basin ** Tell RHESSys to output at the basin spatial level<br>\n",
    "**--hillslope ** Tell RHESSys to output at the hillslope spatial level<br>\n",
    "**--zone ** Tell RHESSys to output at the zone spatial level<br>\n",
    "**--patch ** Tell RHESSys to output at the patch spatial level<br>\n",
    "**--canopy ** Tell RHESSys to output at the canopy stratum spatial level<br>\n",
    "**-v, --verbose **        Print detailed information about what the program is doing<br>\n",
    "\n",
    "\n",
    "<br/> <br/>\n",
    "&#9971; **Note: ** Modify **options** below to match your data inputs.\n"
   ]
  },
  {
   "cell_type": "code",
   "execution_count": null,
   "metadata": {
    "collapsed": false
   },
   "outputs": [],
   "source": [
    "#########################################################\n",
    "## Variables\n",
    "## Note dependency of variables [w.model_start_year, w.model_start_month, w.model_start_day] defined above \n",
    "## Note dependency of variables [w.model_end_year, w.model_end_month, w.model_end_day] defined above \n",
    "## Note dependency of variables [tec_file] defined above \n",
    "\n",
    "model_start = str(w.model_start_year) + ' ' + str(w.model_start_month) + ' ' + str(w.model_start_day) + ' 1'\n",
    "model_end = str(w.model_end_year) + ' ' + str(w.model_end_month) + ' ' + str(w.model_end_day) + ' 1'\n",
    "\n",
    "description = '\"Test model run\"'  ##Must use double quotes here\n",
    "spatial_level = \"--basin\"\n",
    "prefix = \"test\"\n",
    "world_file = \"world\"\n",
    "#tec_file = \"tec_daily.txt\" ##Defined above step\n",
    "flow_table = \"world.flow\"\n",
    "s_flag = '0.07041256017 133.552915269 1.81282283058'\n",
    "sv_flag = '4.12459677088 78.3440566535'\n",
    "gw_flag = '0.00736592779294 0.340346799457'\n",
    "flow_table_flag = ' -r ' + flow_table + ' -- -s ' + s_flag + ' -sv ' + sv_flag + ' -gw ' + gw_flag\n",
    "\n",
    "runmodel_flags = '  -d ' + description + ' ' + spatial_level + ' -pre ' + prefix +' -st ' + model_start + ' -ed ' + model_end + ' -w ' + world_file + ' -t ' + tec_file + flow_table_flag\n",
    "runmodel_options = \" -v -p \" + w.sub_project_folder + runmodel_flags\n",
    "##print(runmodel_options)\n",
    "\n",
    "#########################################################\n",
    "## Commands\n",
    "output = w.RunModelOptions(runmodel_options)\n",
    "print(output)\n",
    "\n",
    "print 'Finished Step'"
   ]
  },
  {
   "cell_type": "markdown",
   "metadata": {
    "collapsed": true
   },
   "source": [
    "## Help with error messages\n",
    "\n",
    "If you see an error message, such as **returned non-zero exit status 1** check the log file located in the **w.sub_project_folder** folder. The log file name is the same name as the project folder, with **.log** appended.\n"
   ]
  },
  {
   "cell_type": "markdown",
   "metadata": {},
   "source": [
    "## Resources\n",
    "\n",
    "* RHESSys\n",
    "  * [Setup](http://fiesta.bren.ucsb.edu/~rhessys/setup/setup.html)\n",
    "  * [Wiki](http://fiesta.bren.ucsb.edu/~rhessys/)\n",
    "* Data\n",
    "  * [HydroShare](https://www.hydroshare.org/)\n",
    "  * [USGS Data and Tools](https://www.usgs.gov/products/data-and-tools/data-and-tools-topics)\n",
    "  * [USDA Data gateway](https://gdg.sc.egov.usda.gov/)\n",
    "  * [HydroTerre](http://hydroterre.psu.edu/)\n",
    "  "
   ]
  },
  {
   "cell_type": "markdown",
   "metadata": {},
   "source": [
    "## Funding\n",
    "This work was supported by the following NSF grants\n",
    "\n",
    "    Award no. 1239678 EAGER: Collaborative Research: Interoperability Testbed-Assessing a Layered Architecture for Integration of Existing Capabilities\n",
    "\n",
    "    Award no. 0940841 DataNet Federation Consortium.\n",
    "\n",
    "    Award no. 1148090 Collaborative Research: SI2-SSI: An Interactive Software Infrastructure for Sustaining Collaborative Innovation in the Hydrologic Sciences\n"
   ]
  },
  {
   "cell_type": "markdown",
   "metadata": {},
   "source": [
    "## Credits\n",
    "\n",
    "**Lawrence E. Band** lband@email.unc.edu <br/>\n",
    "**Brian Miles** brian_miles@unc.edu <br/> \n",
    "**Laurence Lin** laurence.lin@icloud.com <br/>\n",
    "**John Duncan** jon.m.duncan@gmail.com <br/>\n",
    "**Lorne Leonard** lnl3@psu.edu <br/>\n"
   ]
  },
  {
   "cell_type": "code",
   "execution_count": null,
   "metadata": {
    "collapsed": true
   },
   "outputs": [],
   "source": []
  }
 ],
 "metadata": {
  "kernelspec": {
   "display_name": "Python 2",
   "language": "python",
   "name": "python2"
  },
  "language_info": {
   "codemirror_mode": {
    "name": "ipython",
    "version": 2
   },
   "file_extension": ".py",
   "mimetype": "text/x-python",
   "name": "python",
   "nbconvert_exporter": "python",
   "pygments_lexer": "ipython2",
   "version": "2.7.12"
  }
 },
 "nbformat": 4,
 "nbformat_minor": 2
}
