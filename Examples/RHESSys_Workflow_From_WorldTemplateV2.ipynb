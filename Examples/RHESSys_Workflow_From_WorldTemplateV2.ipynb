{
 "cells": [
  {
   "cell_type": "markdown",
   "metadata": {},
   "source": [
    "# RHESSys Workflow Starting From World Template\n",
    "<br />\n",
    "RHESSysWorkflows provides a series of Python tools for performing [RHESSys](https://github.com/RHESSys/RHESSys) data preparation workflows. These tools build on the workflow system defined by [EcohydroLib](https://github.com/selimnairb/EcohydroLib) and [RHESSysWorkflows](https://github.com/selimnairb/RHESSysWorkflows).\n",
    "<br />\n",
    "\n",
    "\n",
    "#### This notebook creates a RHESSys model starting by generating a world template file. The data preparation steps use an existing HydroShare resource. \n",
    "\n",
    "The general steps are:<br />\n",
    "* Generate template <br />\n",
    "* Create world <br />\n",
    "* Create flow table <br />\n",
    "* Initializing vegetation carbon and nitrogen stores <br />\n",
    "* Creating a RHESSys TEC file <br />\n",
    "* Running RHESSys models <br />\n",
    "\n",
    "\n",
    "**Note: **Users interested in seeing step outputs, remove **output = ** from the command line. <br />\n",
    "Some output lengths are very long and this notebook will become large in disk size."
   ]
  },
  {
   "cell_type": "markdown",
   "metadata": {},
   "source": [
    "This cell imports the necessary python libraries for the notebook "
   ]
  },
  {
   "cell_type": "code",
   "execution_count": null,
   "metadata": {
    "collapsed": false
   },
   "outputs": [],
   "source": [
    "import os\n",
    "import sys, stat\n",
    "import logging\n",
    "from utilities import hydroshare\n",
    "import shutil\n",
    "from utilities.rhessys import *\n",
    "%matplotlib inline\n",
    "\n",
    "print 'Finished Step'"
   ]
  },
  {
   "cell_type": "markdown",
   "metadata": {},
   "source": [
    "The **`RHESSysWorkflow`** class is provided as part of the `rhessys` library (imported above) to streamline your interaction with the `RHESSysWorkflows` [core functions](https://github.com/selimnairb/RHESSysWorkflows).\n",
    " <br>\n",
    "\n",
    "Create an instance of the `RHESSysWorkflow` class and assign it to the variable `w`. <br>\n",
    "This command will create a directory for the given **project name** of `my_workflow` in the JupyterHub's default data directory. **If the directory exists, you will be prompted to use, or overwrite.** <br>\n",
    "This notebook, a custom gage is used for **gageid**. <br>\n",
    "A start date of **2008-01-01**, and an end date of **2010-01-01**.  "
   ]
  },
  {
   "cell_type": "code",
   "execution_count": null,
   "metadata": {
    "collapsed": false
   },
   "outputs": [],
   "source": [
    "w = RHESSysWorkflow(project_name='my_workflow', \n",
    "                    gageid='custom',\n",
    "                    start_date='2008-01-01',\n",
    "                    end_date='2008-01-07'\n",
    "                    )\n",
    "\n",
    "print 'Finished Step'"
   ]
  },
  {
   "cell_type": "markdown",
   "metadata": {},
   "source": [
    "The RHESSysWorkflow class uses a logging library to document output and errors. We can display these messages in our notebook by attaching to the logger and redirecting the output to stdout. While this step is not necessary, it will provide us with more verbose output."
   ]
  },
  {
   "cell_type": "code",
   "execution_count": null,
   "metadata": {
    "collapsed": false
   },
   "outputs": [],
   "source": [
    "# Get root logger for RHESSysWorkflow and set the output to stdout\n",
    "root_logger = logging.getLogger()\n",
    "root_logger.addHandler(logging.StreamHandler(sys.stdout))\n",
    "\n",
    "print 'Finished Step'"
   ]
  },
  {
   "cell_type": "markdown",
   "metadata": {},
   "source": [
    "## Retrieve data from HydroShare Resource\n",
    "\n",
    "The first step to retrieve a resource from HydroShare is to create a connection as follows: <br>\n",
    "**Note** you may be required to enter your credentials."
   ]
  },
  {
   "cell_type": "code",
   "execution_count": null,
   "metadata": {
    "collapsed": false
   },
   "outputs": [],
   "source": [
    "hs = hydroshare.hydroshare()\n",
    "\n",
    "print 'Finished Step'"
   ]
  },
  {
   "cell_type": "markdown",
   "metadata": {},
   "source": [
    "The UNC Institute for the Environment has prepared a HydroShare Resource for [Dead Run](https://www.hydroshare.org/resource/6dbb0dfb8f3a498881e4de428cb1587c/) <br>\n",
    "<br>\n",
    "If you follow the web link, or move your mouse cursor over the above web link, you will note the web link has nas numbers and text after https://www.hydroshare.org/resource/. This text string is a resource-id. Here the resource id is 6dbb0dfb8f3a498881e4de428cb1587c and is needed to retrieve the resource from HydroShare. <br>\n",
    "<br>\n",
    "**Note:**  <br>\n",
    "[1] If you use are using this notebook as a template for another **resource-id**, cells below, marked with &#9971; ,indicate where users will need to modify the cell to work with their data.  <br>\n",
    "[2] If you have used this **resource-id** before in your userspace, you will be prompted to overwrite this data. <br>\n",
    " "
   ]
  },
  {
   "cell_type": "code",
   "execution_count": null,
   "metadata": {
    "collapsed": false
   },
   "outputs": [],
   "source": [
    "resource_id = '6dbb0dfb8f3a498881e4de428cb1587c'\n",
    "content = hs.getResourceFromHydroShare(resource_id)\n",
    "\n",
    "print 'Finished Step'"
   ]
  },
  {
   "cell_type": "markdown",
   "metadata": {},
   "source": [
    "\n",
    "\n",
    "After the resource has finished downloading, the next step is to unzip the folder in your workspace. <br>\n",
    "We know the name of the zipped file `RainCatchers_3m.zip` from the above step. <br>\n",
    "\n",
    "&#9971; If you are using a different resource, you will be required to change the **hs.content['DR5_3m_nonburned_DEM_rain_duration_DEM_float_lctest_raingarden.zip']**, line below. <br>\n",
    "Here, a new folder called `RHESSys_ETV` is created in the **workspace folder** created by the **RHESSysWorkflow object** to keep the data in a separate location from the following steps. The **zipname** variable, is the name defined in hs.content[\"MY_FILE\"]. "
   ]
  },
  {
   "cell_type": "code",
   "execution_count": null,
   "metadata": {
    "collapsed": false
   },
   "outputs": [],
   "source": [
    "#########################################################\n",
    "## Variables used in cells below\n",
    "zipfolder = w.sub_project_folder\n",
    "zipname = 'DR5_3m_nonburned_DEM_rain_duration_DEM_float_lctest_raingarden'\n",
    "\n",
    "## Need to update project location\n",
    "w.sub_project_folder = zipfolder + '/' + zipname\n",
    "\n",
    "#########################################################\n",
    "## Commands\n",
    "## Create Folder\n",
    "w.create_path(zipfolder)\n",
    "## name of zip file and path\n",
    "zipfilepathname = hs.content[zipname + '.zip']\n",
    "## Unzip the file\n",
    "w.unzip_etv_zip_file_at_path(zipfilepathname, zipfolder)\n",
    "\n",
    "print 'Finished Step'"
   ]
  },
  {
   "cell_type": "markdown",
   "metadata": {},
   "source": [
    "The **os.environ[\"GDAL_DATA\"]** indicates to PYTHON where the GDAL installation is. If you have compiled GDAL (i.e. for specialized libraries) in your environment, change this value.\n",
    "<br/><br/>"
   ]
  },
  {
   "cell_type": "code",
   "execution_count": null,
   "metadata": {
    "collapsed": false
   },
   "outputs": [],
   "source": [
    "os.environ[\"GDAL_DATA\"] = \"/opt/conda/share/gdal\"\n",
    "\n",
    "print 'Finished Step'"
   ]
  },
  {
   "cell_type": "markdown",
   "metadata": {},
   "source": [
    "## Download RHESSys Model software from HydroShare resource\n",
    "\n",
    "The above resource contains a precompiled RHESSys model and tools. However, the code has been compiled on a OSX environment different OS from the Jupyter notebooks. Hence, the RHESSys model will not execute. <br />\n",
    "<br />\n",
    "As a notebook user, you have two options. <br />\n",
    " <br />\n",
    "**Option #1:** As demonstrated with other RHESSys notebooks, a step called `ImportRHESSysSource` will import the latest RHESSys source code and compile the code on the host. This method is recommended if you desire the latest model and the data preparation steps are compatiable.\n",
    " <br />\n",
    "**Option #2:** This notebook, demonstrates using an existing compiled RHESSys model and tools, kept on HydroShare as a resource called [rhessys5.18.r2](https://www.hydroshare.org/resource/f92ccd46170b4d4cac028b7765536d75/). <br>\n",
    "<br>\n",
    "\n"
   ]
  },
  {
   "cell_type": "code",
   "execution_count": null,
   "metadata": {
    "collapsed": false
   },
   "outputs": [],
   "source": [
    "resource_id = 'f92ccd46170b4d4cac028b7765536d75' ##Resource id for rhessys5.18.r2\n",
    "content = hs.getResourceFromHydroShare(resource_id)\n",
    "\n",
    "print 'Finished Step'"
   ]
  },
  {
   "cell_type": "code",
   "execution_count": null,
   "metadata": {
    "collapsed": false
   },
   "outputs": [],
   "source": [
    "#########################################################\n",
    "## Note dependency of variables [zipfolder] defined above \n",
    "\n",
    "zipname = 'rhessys5.18.r2'\n",
    "bin_location = '/rhessys/bin'\n",
    "zipfolder2 = w.sub_project_folder + bin_location\n",
    "\n",
    "#########################################################\n",
    "## Commands\n",
    "## Create Folder\n",
    "#w.create_path(zipfolder2)\n",
    "## name of zip file and path\n",
    "zipfilepathname = hs.content[zipname + '.zip']\n",
    "## Unzip the file\n",
    "w.unzip_etv_zip_file_at_path(zipfilepathname, zipfolder2)\n",
    "\n",
    "print 'Finished Step'"
   ]
  },
  {
   "cell_type": "markdown",
   "metadata": {},
   "source": [
    "The permissions of the file contents need to be modified for execution."
   ]
  },
  {
   "cell_type": "code",
   "execution_count": null,
   "metadata": {
    "collapsed": false
   },
   "outputs": [],
   "source": [
    "#########################################################\n",
    "## Note dependency of variables [zipfolder2] defined above \n",
    "\n",
    "#########################################################\n",
    "## Commands\n",
    "for filename in os.listdir(zipfolder2):\n",
    "    file_bin = zipfolder2 + '/' + filename\n",
    "    os.chmod(file_bin, 0777)\n",
    "\n",
    "print 'Finished Step'"
   ]
  },
  {
   "cell_type": "markdown",
   "metadata": {},
   "source": [
    "Here, the sub project folder is modified."
   ]
  },
  {
   "cell_type": "markdown",
   "metadata": {},
   "source": [
    "## Generate World Template\n",
    "\n",
    "Now we are almost ready to create the world file for our watershed. First we must create the template from which the world file will be created. To do this, we'll use the **GenerateWorldTemplate** tool. Fortunately this is very easy because the metadata store contains nearly all the information needed to create the template.<br>\n",
    "<br>\n",
    "<br>\n",
    "**Options** include the following: <br>\n",
    "**-c (a.k.a. --climateStation)**      The climate station to associate with the worldfile. Must be one of the climate stations specified in the \"climate_stations\" key in the \"rhessys\" section of the metadata<br>\n",
    "**--aspectMinSlopeOne**           Use slope map with a minimum value of 1.0 to be used for calculating spherical average aspect. Needed for areas of low slope due to limitations of RHESSys grass2world, which truncates slopes <1 to 0.0, which causes spherical average of <br><br>\n",
    "**-v, --verbose **        Print detailed information about what the program is doing<br>\n",
    "\n",
    "<br/> <br/>\n",
    "&#9971; **Note: ** Modify **world_template_options** below to match your climate data inputs.\n"
   ]
  },
  {
   "cell_type": "code",
   "execution_count": null,
   "metadata": {
    "collapsed": false
   },
   "outputs": [],
   "source": [
    "#########################################################\n",
    "## Variables\n",
    "world_template_flags =  \" -c dr5_composite5\"\n",
    "world_template_options = \" -p \" + w.sub_project_folder + world_template_flags\n",
    "\n",
    "#########################################################\n",
    "## Commands\n",
    "output = w.GenerateWorldTemplateOptions(world_template_options)\n",
    "print(output)\n",
    "\n",
    "print 'Finished Step'"
   ]
  },
  {
   "cell_type": "markdown",
   "metadata": {},
   "source": [
    "Now use the **CreateWorldfile** tool to create a world file using this template. <br/>\n",
    "Note: Output from CreateWorldfile has been piped to output variable. For debugging, uncomment print statement (i.e. remove #)."
   ]
  },
  {
   "cell_type": "code",
   "execution_count": null,
   "metadata": {
    "collapsed": false
   },
   "outputs": [],
   "source": [
    "#########################################################\n",
    "## Commands\n",
    "output = w.CreateWorldfile(w.sub_project_folder)\n",
    "#print(output) ##Note Output message Long\n",
    "\n",
    "print 'Finished Step'"
   ]
  },
  {
   "cell_type": "markdown",
   "metadata": {},
   "source": [
    "## Create Flow Table\n",
    "As with worldfile creation, at this point in the workflow, RHESSysWorkflows's metadata store contains all the information needed to create a flow table using the createflowpaths (CF) RHESSys program. We'll use CreateFlowtable to create our flow table.\n",
    "<br><br>\n",
    "This will result in the creation of a flow table called world.flow in the flow directory of your rhessys directory. Now we have almost everything we need to run RHESSys simulations.\n",
    "<br><br>\n",
    "See the RHESSysWorkflows tutorial to learn how to [route surface flows for road pixels directly to the stream](https://github.com/selimnairb/RHESSysWorkflows#creating-the-flow-table) and [create surface flow tables using a roof connectivity map](https://github.com/selimnairb/RHESSysWorkflows#creating-a-surface-flow-table-using-a-roof-connectivity-map)\n",
    "<br>\n",
    "<br>\n",
    "**Options** include the following: <br>\n",
    "**--routeRoads**      Tell createflowpaths to route flow from roads to the nearest stream pixel (requires roads_rast to be defined in metadata)<br>\n",
    "**--routeRoofs** Tell createflowpaths to route flow from roof tops based on roof top connectivity to nearest impervious surface\n",
    "(requires roof_connectivity_rast and impervious_rast to be defined in metadata)<br>\n",
    "**-f, --force ** Run createflowpaths even if DEM x resolution does not match y resolution<br>\n",
    "**--ignoreBurnedDEM ** Ignore stream burned DEM, if present. Default DEM raster will be used for all operations. If not specified and if stream burned raster is present, stream burned DEM will be used for generating the flow table.<br>\n",
    "**-v, --verbose **        Print detailed information about what the program is doing<br>\n",
    "\n",
    "\n",
    "<br/> <br/>\n",
    "&#9971; **Note: ** Modify **flow_table_options** below to match your data inputs.\n",
    "\n"
   ]
  },
  {
   "cell_type": "code",
   "execution_count": null,
   "metadata": {
    "collapsed": false
   },
   "outputs": [],
   "source": [
    "#########################################################\n",
    "## Variables\n",
    "flow_table_flags = \" -v\"\n",
    "flow_table_options = \" -p \" + w.sub_project_folder + flow_table_flags\n",
    "\n",
    "#########################################################\n",
    "## Commands\n",
    "output = w.CreateFlowtableOptions(flow_table_options)\n",
    "print(output)\n",
    "\n",
    "print 'Finished Step'"
   ]
  },
  {
   "cell_type": "markdown",
   "metadata": {},
   "source": [
    "## Initializing vegetation carbon and nitrogen stores\n",
    "RHESSys provides a program called LAIread to initialize vegetation carbon and nitrogen stores in your world file.\n",
    "\n",
    "    Note, LAIread should only be used for RHESSys simulations with static vegetation (i.e. not dynamic vegetation mode enable via the -g command line option to RHESSys).\n",
    "\n",
    "Initializing carbon and nitrogen stores is a multi-step process that involves running LAI read to generate a redefine worldfile, running a 3-day RHESSys simulation to incorporate the redefine worldfile, writing out a new worldfile with initialized vegetation carbon and nitrogen stores. RHESSysWorkflows automates all of these processes for you using the tool RunLAIRead, which can even figure out what date to start the 3-day RHESSys simulation on based on your climate data.\n",
    "\n",
    "    In the current version of RHESSysWorkflows, RunLAIRead is only able to read simulation start dates from point time-series climate data. Users of ASCII or NetCDF gridded climate data must run LAI read by hand. The next release of RHESSysWorkflows will add support for gridded climate data to RunLAIRead.\n",
    "\n",
    "To initialize vegetation carbon and nitrogen stores, LAIread relies on allometric relationships between leaf area and carbon and nitrogen mass in various plant tissues (e.g. leaf, stem, root). Consult the RHESSys wiki for more information on allometric relationships used by LAIread. These allometric parameters have not yet been added to the RHESSys ParamDB database proper. A default version of the parameters for RHESSys base vegetation classes is stored in the RHESSys ParamDB source coderepository. RHESSysWorkflows stores this file under the name allometric.txt in the allometry folder of the ParamDB of your rhessys/db folder. \n"
   ]
  },
  {
   "cell_type": "code",
   "execution_count": null,
   "metadata": {
    "collapsed": false
   },
   "outputs": [],
   "source": [
    "#########################################################\n",
    "## Commands\n",
    "output = w.RunLAIRead(w.sub_project_folder)\n",
    "#print(output) ##Note Output message VERY Long\n",
    "\n",
    "print 'Finished Step'"
   ]
  },
  {
   "cell_type": "markdown",
   "metadata": {},
   "source": [
    "## Creating a RHESSys TEC file\n",
    "We need one more thing before we can run our model, a TEC file. TEC stands for \"temporal event controller\". We use a TEC file to tell RHESSys to do things on at certain times during a simulation.\n",
    "\n",
    "#### With this notebook, the supplied **tec_daily.txt** will be used. If you desire a short test, or different times, uncomment the `output = w.RunCmdOptions(tec_options)` below.\n",
    "<br/>\n",
    "&#9971; **Note: ** Modify **options** below to match your data inputs."
   ]
  },
  {
   "cell_type": "code",
   "execution_count": null,
   "metadata": {
    "collapsed": false
   },
   "outputs": [],
   "source": [
    "#########################################################\n",
    "## Variables\n",
    "model_start = str(w.model_start_year) + ' ' + str(w.model_start_month) + ' ' + str(w.model_start_day) + ' 1'\n",
    "\n",
    "tec_file = \"tec_daily.txt\"\n",
    "tec_output_location = w.sub_project_folder + \"/rhessys/tecfiles/\" + tec_file\n",
    "tec_cmd = ' echo \"' + model_start + ' print_daily_on\" > '\n",
    "tec_flags = tec_cmd + tec_output_location\n",
    "tec_options = \" -p \" + w.sub_project_folder + tec_flags\n",
    "\n",
    "#########################################################\n",
    "## Commands\n",
    "##output = w.RunCmdOptions(tec_options)\n",
    "print(output)\n",
    "\n",
    "print 'Finished Step'"
   ]
  },
  {
   "cell_type": "markdown",
   "metadata": {},
   "source": [
    "## Running RHESSys models\n",
    "Once you have built a RHESSys model using RHESSysWorkflows, you are free to run your model manually. However this will not capture information about model runs in your project metadata. If you would like to record your runs in your project metadata, use the **RunModel** command.\n",
    "\n",
    "\n",
    "Because the project metadata knows where RHESSys is installed in your project directory, you don't have to specify the full path of any of the RHESSys input files (e.g. world files, flow tables, TEC files, etc), you only need to specify the filenames. RunModel will echo RHESSys console outlet to the screen (if the -v or verbose option is specified as above), and will always save the same output into a file named 'rhessys.out' stored in the output folder for each model run. The output folder will be named based on the value you provide for the '-pre' or output prefix option. Model output is stored in the output directory of the rhessys directory of your project directory.\n",
    "\n",
    "For more details on using RunModel see the RHESSysWorkflows [tutorial](https://github.com/selimnairb/RHESSysWorkflows#running-rhessys-models).\n",
    "<br>\n",
    "<br>\n",
    "**Options** include the following: <br>\n",
    "**-d DESCRIPTION, --description** Description of the model run<br>\n",
    "**-pre OUTPUTPREFIX** Filename prefix to use for output files, relative to output directory in the RHESSys directory of the project<br>\n",
    "**-st STARTDATE STARTDATE STARTDATE STARTDATE** Start date and time of the model run, of the form \"YYYY M D H\"<br>\n",
    "**-ed ENDDATE ENDDATE ENDDATE ENDDATE** Date date and time of the model run, of the form \"YYYY M D H\".<br>\n",
    "**-w WORLDFILE** Filename of the tecfile to use for the model run, specified relative to the tec directory in the RHESSys directory of the projec<br>\n",
    "**-t TECFILE **        Filename of the tecfile to use for the model run, specified relative to the tec directory in the RHESSys directory of the project<br>\n",
    "**-r [FLOWTABLES [FLOWTABLES ...]]**Filename(s) of the flow table(s) to use for the model run, specified relative to the flowtable directory in the RHESSys directory of the project. If one flow table is supplied, it will be used for subsurface and surface routing. If two flow tables are supplied the first will be use for subsurface routing, the second for surface<br>\n",
    "**--basin ** Tell RHESSys to output at the basin spatial level<br>\n",
    "**--hillslope ** Tell RHESSys to output at the hillslope spatial level<br>\n",
    "**--zone ** Tell RHESSys to output at the zone spatial level<br>\n",
    "**--patch ** Tell RHESSys to output at the patch spatial level<br>\n",
    "**--canopy ** Tell RHESSys to output at the canopy stratum spatial level<br>\n",
    "**-v, --verbose **        Print detailed information about what the program is doing<br>\n",
    "\n",
    "\n",
    "<br/> <br/>\n",
    "&#9971; **Note: ** Modify **options** below to match your data inputs.\n"
   ]
  },
  {
   "cell_type": "code",
   "execution_count": null,
   "metadata": {
    "collapsed": false
   },
   "outputs": [],
   "source": [
    "#########################################################\n",
    "## Variables\n",
    "## Note dependency of variables [w.model_start_year, w.model_start_month, w.model_start_day] defined above \n",
    "## Note dependency of variables [w.model_end_year, w.model_end_month, w.model_end_day] defined above \n",
    "\n",
    "model_start = str(w.model_start_year) + ' ' + str(w.model_start_month) + ' ' + str(w.model_start_day) + ' 1'\n",
    "model_end = str(w.model_end_year) + ' ' + str(w.model_end_month) + ' ' + str(w.model_end_day) + ' 1'\n",
    "\n",
    "description = '\"Test model run\"'  ##Must use by quotes here\n",
    "spatial_level = \"--basin\"\n",
    "prefix = \"test\"\n",
    "world_file = \"world_init\"\n",
    "tec_file = \"tec.lairead\" \n",
    "flow_table = \"world.flow\"\n",
    "s_flag = '0.07041256017 133.552915269 1.81282283058'\n",
    "sv_flag = '4.12459677088 78.3440566535'\n",
    "gw_flag = '0.00736592779294 0.340346799457'\n",
    "flow_table_flag = ' -r ' + flow_table + ' -- -s ' + s_flag + ' -sv ' + sv_flag + ' -gw ' + gw_flag\n",
    "\n",
    "runmodel_flags = '  -d ' + description + ' ' + spatial_level + ' -pre ' + prefix +' -st ' + model_start + ' -ed ' + model_end + ' -w ' + world_file + ' -t ' + tec_file + flow_table_flag\n",
    "runmodel_options = \" -v -p \" + w.sub_project_folder + runmodel_flags\n",
    "##print(runmodel_options)\n",
    "\n",
    "#########################################################\n",
    "## Commands\n",
    "output = w.RunModelOptions(runmodel_options)\n",
    "print(output)\n",
    "\n",
    "print 'Finished Step'"
   ]
  },
  {
   "cell_type": "markdown",
   "metadata": {
    "collapsed": true
   },
   "source": [
    "## Help with error messages\n",
    "\n",
    "If you see an error message, such as **returned non-zero exit status 1** check the log file located in the **w.sub_project_folder** folder. The log file name is the same name as the project folder, with **.log** appended.\n"
   ]
  },
  {
   "cell_type": "markdown",
   "metadata": {},
   "source": [
    "## Resources\n",
    "\n",
    "* RHESSys\n",
    "  * [Setup](http://fiesta.bren.ucsb.edu/~rhessys/setup/setup.html)\n",
    "  * [Wiki](http://fiesta.bren.ucsb.edu/~rhessys/)\n",
    "* Data\n",
    "  * [HydroShare](https://www.hydroshare.org/)\n",
    "  * [USGS Data and Tools](https://www.usgs.gov/products/data-and-tools/data-and-tools-topics)\n",
    "  * [USDA Data gateway](https://gdg.sc.egov.usda.gov/)\n",
    "  * [HydroTerre](http://hydroterre.psu.edu/)"
   ]
  },
  {
   "cell_type": "markdown",
   "metadata": {},
   "source": [
    "## Funding\n",
    "This work was supported by the following NSF grants\n",
    "\n",
    "    Award no. 1239678 EAGER: Collaborative Research: Interoperability Testbed-Assessing a Layered Architecture for Integration of Existing Capabilities\n",
    "\n",
    "    Award no. 0940841 DataNet Federation Consortium.\n",
    "\n",
    "    Award no. 1148090 Collaborative Research: SI2-SSI: An Interactive Software Infrastructure for Sustaining Collaborative Innovation in the Hydrologic Sciences\n"
   ]
  },
  {
   "cell_type": "markdown",
   "metadata": {},
   "source": [
    "## Credits\n",
    "\n",
    "**Lawrence E. Band** lband@email.unc.edu <br/>\n",
    "**Brian Miles** brian_miles@unc.edu <br/> \n",
    "**Laurence Lin** laurence.lin@icloud.com <br/>\n",
    "**John Duncan** jon.m.duncan@gmail.com <br/>\n",
    "**Lorne Leonard** lnl3@psu.edu <br/>\n"
   ]
  },
  {
   "cell_type": "code",
   "execution_count": null,
   "metadata": {
    "collapsed": true
   },
   "outputs": [],
   "source": []
  }
 ],
 "metadata": {
  "kernelspec": {
   "display_name": "Python 2",
   "language": "python",
   "name": "python2"
  },
  "language_info": {
   "codemirror_mode": {
    "name": "ipython",
    "version": 2
   },
   "file_extension": ".py",
   "mimetype": "text/x-python",
   "name": "python",
   "nbconvert_exporter": "python",
   "pygments_lexer": "ipython2",
   "version": "2.7.12"
  }
 },
 "nbformat": 4,
 "nbformat_minor": 0
}
