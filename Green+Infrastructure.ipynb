{
 "cells": [
  {
   "cell_type": "markdown",
   "metadata": {},
   "source": [
    "### This cell creates a button to hide/show the cell codes below."
   ]
  },
  {
   "cell_type": "code",
   "execution_count": null,
   "metadata": {
    "collapsed": false
   },
   "outputs": [],
   "source": [
    "from notebook.nbextensions import check_nbextension\n",
    "check_nbextension('codefolding', user=True)\n",
    "check_nbextension('codefolding/main.js', user=True)"
   ]
  },
  {
   "cell_type": "code",
   "execution_count": null,
   "metadata": {
    "collapsed": false
   },
   "outputs": [],
   "source": [
    "%%HTML\n",
    "<script>\n",
    "    var code_show=true; //true -> hide code at first\n",
    "\n",
    "    function code_toggle() {\n",
    "        $('div.prompt').hide(); // always hide prompt\n",
    "\n",
    "        if (code_show){\n",
    "            $('div.input').hide();\n",
    "        } else {\n",
    "            $('div.input').show();\n",
    "        }\n",
    "        code_show = !code_show\n",
    "    }\n",
    "    $( document ).ready(code_toggle);\n",
    "</script>\n",
    "<a href=\"javascript:code_toggle()\">[Toggle Code]</a>"
   ]
  },
  {
   "cell_type": "markdown",
   "metadata": {},
   "source": [
    "## Here, the Garden Infrastructure Designer web site is loaded for users to create custom GI. "
   ]
  },
  {
   "cell_type": "code",
   "execution_count": null,
   "metadata": {
    "collapsed": false
   },
   "outputs": [],
   "source": [
    "%%HTML\n",
    "<iframe id=\"myiframe\" width=\"1000px\" height=\"900px\" src=\"http://gidesigner.renci.org/hydroshare/GI_Designer_01_12_2017_WithSave/GI_HS.html\"></iframe>\n",
    "\n",
    "<script type=\"text/javascript\">\n",
    "\n",
    "var eventMethod = window.addEventListener;\n",
    "var eventer = window[eventMethod];\n",
    "var messageEvent = \"message\";  \n",
    "\n",
    "window.addEventListener('message',function(e) {\n",
    "    var key = e.message ? 'message' : 'data';    \n",
    "    if(key == \"data\")\n",
    "    {\n",
    "        var data = e[key];    \n",
    "        var res = data.split(\"=\"); \n",
    "        var new_key = res[0];\n",
    "        var new_value = res[1];\n",
    "        console.log(new_key);\n",
    "        if(new_key.includes(\"download_url\") )\n",
    "        {\n",
    "            IPython.notebook.kernel.execute(new_key + '=\\'' + new_value + '\\'');\n",
    "            console.log(new_value);\n",
    "        }\n",
    "        else\n",
    "        {\n",
    "            var json = JSON.parse(new_value);\n",
    "            var json_string = JSON.stringify(json);     \n",
    "            console.log(json_string);               \n",
    "            IPython.notebook.kernel.execute(new_key + '=\\'' + json_string + '\\'');        \n",
    "        }\n",
    "    };\n",
    "},false);\n",
    "</script>"
   ]
  },
  {
   "cell_type": "markdown",
   "metadata": {},
   "source": [
    "## How to access data from the GI web site? "
   ]
  },
  {
   "cell_type": "markdown",
   "metadata": {},
   "source": [
    "### To access Landcover and Soil Datasets.\n",
    "After creating GI and clicking on the **Generate buttons** located under the **Notebook Data Preparation tab** there are two ways to access the data for RHESSys workflows.<br>\n",
    " #### (1) By clicking on the download buttons and saving the zip files to your desktop. Then uploading the files as a HydroShare resource. This method is recommended for final GI design.\n",
    " #### (2) For experiments and refinements, the other way is to download the files to your notebook workspace.\n",
    " \n",
    "Here, the notebook demonstrates the second example. By clicking on the generate buttons, global variables are created. By clicking on the **Generate RHESSys Land Cover Dataset** button creates the **landuse_download_url** global variable. Clicking on the **Generate RHESSys Soil Dataset ** button creates the **soil_download_url** global variable. Then to download the data, use these variables with the **!wget** function."
   ]
  },
  {
   "cell_type": "markdown",
   "metadata": {},
   "source": [
    "### To access the Landcover Dataset"
   ]
  },
  {
   "cell_type": "code",
   "execution_count": null,
   "metadata": {
    "collapsed": false
   },
   "outputs": [],
   "source": [
    "print(landuse_download_url);\n",
    "!wget $landuse_download_url"
   ]
  },
  {
   "cell_type": "markdown",
   "metadata": {},
   "source": [
    "### To access the Soil Dataset"
   ]
  },
  {
   "cell_type": "code",
   "execution_count": null,
   "metadata": {
    "collapsed": true
   },
   "outputs": [],
   "source": [
    "print(soil_download_url);\n",
    "!wget $soil_download_url"
   ]
  },
  {
   "cell_type": "markdown",
   "metadata": {},
   "source": [
    "## To access GI geometry and Custom GI definitions\n",
    "\n",
    "After creating GI under the **Save or Load GI tab** there are two ways to access the data for RHESSys workflows.<br>\n",
    "As before, files can be downloaded and uploaded to HydroShare as a resource. Here, the second method is demonstrated using global variables. Below, shows the steps to access these variables after clicking on the **Save GI variables to HydroShare** button.\n"
   ]
  },
  {
   "cell_type": "markdown",
   "metadata": {},
   "source": [
    "### To access Polygon Marker Geometry (i.e. soils, surfaces)\n",
    "Use the variable **hs_polygon_markers**"
   ]
  },
  {
   "cell_type": "code",
   "execution_count": null,
   "metadata": {
    "collapsed": false
   },
   "outputs": [],
   "source": [
    "import json\n",
    "from collections import OrderedDict\n",
    "data = json.loads(hs_polygon_markers, object_pairs_hook=OrderedDict)\n",
    "print(json.dumps(data, indent=4));"
   ]
  },
  {
   "cell_type": "markdown",
   "metadata": {},
   "source": [
    "### To access Point Marker Geometry (i.e. Tree locations)\n",
    "Use the variable **hs_point_markers**"
   ]
  },
  {
   "cell_type": "code",
   "execution_count": null,
   "metadata": {
    "collapsed": false
   },
   "outputs": [],
   "source": [
    "import json\n",
    "from collections import OrderedDict\n",
    "data = json.loads(hs_point_markers, object_pairs_hook=OrderedDict)\n",
    "print(json.dumps(data, indent=4));"
   ]
  },
  {
   "cell_type": "markdown",
   "metadata": {},
   "source": [
    "### To access GI Tree Properties\n",
    "Use the variable **hs_tree_dictionary**"
   ]
  },
  {
   "cell_type": "code",
   "execution_count": null,
   "metadata": {
    "collapsed": false
   },
   "outputs": [],
   "source": [
    "import json\n",
    "from collections import OrderedDict\n",
    "data = json.loads(hs_tree_dictionary, object_pairs_hook=OrderedDict)\n",
    "print(json.dumps(data, indent=4));"
   ]
  },
  {
   "cell_type": "markdown",
   "metadata": {},
   "source": [
    "### To access GI Stratum Properties\n",
    "Use the variable **hs_stratum_dictionary**"
   ]
  },
  {
   "cell_type": "code",
   "execution_count": null,
   "metadata": {
    "collapsed": false
   },
   "outputs": [],
   "source": [
    "import json\n",
    "from collections import OrderedDict\n",
    "data = json.loads(hs_stratum_dictionary, object_pairs_hook=OrderedDict)\n",
    "print(json.dumps(data, indent=4));"
   ]
  },
  {
   "cell_type": "markdown",
   "metadata": {},
   "source": [
    "### To access GI Soil Properties\n",
    "Use the variable **hs_soil_dictionary**"
   ]
  },
  {
   "cell_type": "code",
   "execution_count": null,
   "metadata": {
    "collapsed": false
   },
   "outputs": [],
   "source": [
    "import json\n",
    "from collections import OrderedDict\n",
    "data = json.loads(hs_tree_dictionary, object_pairs_hook=OrderedDict)\n",
    "print(json.dumps(data, indent=4));"
   ]
  },
  {
   "cell_type": "markdown",
   "metadata": {},
   "source": [
    "### To access GI SpreadSheet\n",
    "Use the variable **hs_spreadsheet**"
   ]
  },
  {
   "cell_type": "code",
   "execution_count": null,
   "metadata": {
    "collapsed": false
   },
   "outputs": [],
   "source": [
    "import json\n",
    "from collections import OrderedDict\n",
    "data = json.loads(hs_spreadsheet, object_pairs_hook=OrderedDict)\n",
    "print(json.dumps(data, indent=4));"
   ]
  },
  {
   "cell_type": "code",
   "execution_count": null,
   "metadata": {
    "collapsed": true
   },
   "outputs": [],
   "source": []
  }
 ],
 "metadata": {
  "kernelspec": {
   "display_name": "Python 3",
   "language": "python",
   "name": "python3"
  },
  "language_info": {
   "codemirror_mode": {
    "name": "ipython",
    "version": 3
   },
   "file_extension": ".py",
   "mimetype": "text/x-python",
   "name": "python",
   "nbconvert_exporter": "python",
   "pygments_lexer": "ipython3",
   "version": "3.5.2"
  }
 },
 "nbformat": 4,
 "nbformat_minor": 2
}
