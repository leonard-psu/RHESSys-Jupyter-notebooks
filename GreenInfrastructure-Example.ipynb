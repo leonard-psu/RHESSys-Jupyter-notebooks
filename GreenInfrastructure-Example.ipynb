{
 "cells": [
  {
   "cell_type": "markdown",
   "metadata": {},
   "source": [
    "## Here, the Green Infrastructure Designer web site is loaded for users to create custom GI. "
   ]
  },
  {
   "cell_type": "code",
   "execution_count": null,
   "metadata": {
    "collapsed": false
   },
   "outputs": [],
   "source": [
    "%%HTML\n",
    "<iframe id=\"myiframe\" width=\"1000px\" height=\"900px\" src=\"http://gidesigner.renci.org/GI_Designer_01_31_2017_WithIFrame/GI_HS.html\"></iframe>\n",
    "\n",
    "<script type=\"text/javascript\">\n",
    "\n",
    "var eventMethod = window.addEventListener;\n",
    "var eventer = window[eventMethod];\n",
    "var messageEvent = \"message\";  \n",
    "\n",
    "window.addEventListener('message',function(e) {\n",
    "    var key = e.message ? 'message' : 'data';    \n",
    "    if(key == \"data\")\n",
    "    {\n",
    "        var data = e[key];    \n",
    "        var res = data.split(\"=\"); \n",
    "        var new_key = res[0];\n",
    "        var new_value = res[1];\n",
    "        console.log(new_key);\n",
    "        if(new_key.includes(\"download_url\") )\n",
    "        {\n",
    "            IPython.notebook.kernel.execute(new_key + '=\\'' + new_value + '\\'');\n",
    "            console.log(new_value);\n",
    "        }\n",
    "        else\n",
    "        {\n",
    "            var json = JSON.parse(new_value);\n",
    "            var json_string = JSON.stringify(json);     \n",
    "            console.log(json_string);               \n",
    "            IPython.notebook.kernel.execute(new_key + '=\\'' + json_string + '\\'');        \n",
    "        }\n",
    "    };\n",
    "},false);\n",
    "</script>"
   ]
  },
  {
   "cell_type": "markdown",
   "metadata": {
    "collapsed": true
   },
   "source": [
    "## The steps below assume you have created a new soil and landcover GI design."
   ]
  },
  {
   "cell_type": "code",
   "execution_count": null,
   "metadata": {
    "collapsed": false
   },
   "outputs": [],
   "source": [
    "import os\n",
    "import logging\n",
    "from utilities import hydroshare\n",
    "import shutil\n",
    "from utilities.rhessys import *\n",
    "%matplotlib inline\n",
    "\n",
    "w = RHESSysWorkflow(project_name='dead_run_withGI_02_01_17', \n",
    "                    gageid='custom',\n",
    "                    start_date='2008-01-01',\n",
    "                    end_date='2010-01-01'\n",
    "                    )\n",
    "\n",
    "hs = hydroshare.hydroshare()\n",
    "\n",
    "resource_id = '6dbb0dfb8f3a498881e4de428cb1587c'\n",
    "# get ETV data bundle for this tutotial stored on HydroShare\n",
    "content = hs.getResourceFromHydroShare(resource_id)\n",
    "print('get HydroShare resource Finished')\n",
    "\n",
    "zipfolder = w.sub_project_folder + '/RHESSys_ETV'\n",
    "w.create_path(zipfolder)\n",
    "zipfilepathname = hs.content['DR5_3m_nonburned_DEM_rain_duration_DEM_float_lctest_raingarden.zip']\n",
    "w.unzip_etv_zip_file_at_path(zipfilepathname, zipfolder)\n",
    "print('Unzip Finished')"
   ]
  },
  {
   "cell_type": "markdown",
   "metadata": {},
   "source": [
    "## Step 1 DEM"
   ]
  },
  {
   "cell_type": "code",
   "execution_count": null,
   "metadata": {
    "collapsed": false
   },
   "outputs": [],
   "source": [
    "os.environ[\"GDAL_DATA\"] = \"/opt/conda/share/gdal\"\n",
    "datasource_folder = '/RHESSys_ETV/DR5_3m_nonburned_DEM_rain_duration_DEM_float_lctest_raingarden/'\n",
    "demfile = w.sub_project_folder + datasource_folder + 'DEM.tif'\n",
    "#print(demfile)\n",
    "w.RegisterDEM(w.sub_project_folder, demfile)\n",
    "print('Finished Step1')"
   ]
  },
  {
   "cell_type": "markdown",
   "metadata": {},
   "source": [
    "## Step 2 Import Gage"
   ]
  },
  {
   "cell_type": "code",
   "execution_count": null,
   "metadata": {
    "collapsed": false
   },
   "outputs": [],
   "source": [
    "gagefile = w.sub_project_folder + '/RHESSys_ETV/DR5_3m_nonburned_DEM_rain_duration_DEM_float_lctest_raingarden/gage.shp'\n",
    "layername = 'gage'\n",
    "id_attribute = 'gage_id'\n",
    "id_value = '01589312'\n",
    "\n",
    "print(gagefile)\n",
    "w.RegisterGage(w.sub_project_folder, gagefile, layername, id_attribute, id_value)\n",
    "print('Finished Step2')"
   ]
  },
  {
   "cell_type": "markdown",
   "metadata": {},
   "source": [
    "## Step 3 Download Soil from GI Design ( NEW - STEP )\n",
    "### The user will need to have created a soil GI design"
   ]
  },
  {
   "cell_type": "code",
   "execution_count": null,
   "metadata": {
    "collapsed": false
   },
   "outputs": [],
   "source": [
    "print(soil_download_url);\n",
    "\n",
    "zipfolder = w.sub_project_folder + '/RHESSys_ETV/GI_Soils'\n",
    "\n",
    "w.create_path(zipfolder)\n",
    "zipfilepathname = 'GI_Soil.zip'\n",
    "\n",
    "!wget $soil_download_url -P $zipfolder\n",
    "\n",
    "input_location = zipfolder + '/' + zipfilepathname\n",
    "etv_output_folder_location = zipfolder\n",
    "\n",
    "w.unzip_etv_zip_file_at_path(input_location, etv_output_folder_location)\n",
    "print('Finished Step3a')"
   ]
  },
  {
   "cell_type": "markdown",
   "metadata": {},
   "source": [
    "By default, the GI web services creates a GI soil shapefile called 'MapunitPolyExtended.shp'.<br>\n",
    "These files need to be copied to the **project directory**"
   ]
  },
  {
   "cell_type": "code",
   "execution_count": null,
   "metadata": {
    "collapsed": false
   },
   "outputs": [],
   "source": [
    "soil_filename = 'MapunitPolyExtended'\n",
    "soil_fullpathname_Src = w.sub_project_folder + '/RHESSys_ETV/GI_Soils/'\n",
    "soil_fullpathname_Dec = w.sub_project_folder\n",
    "for filename in os.listdir(soil_fullpathname_Src):\n",
    "    if(filename.startswith(soil_filename)):\n",
    "        shutil.copy(soil_fullpathname_Src + filename, soil_fullpathname_Dec)\n",
    "print('Finished Step3b')"
   ]
  },
  {
   "cell_type": "markdown",
   "metadata": {},
   "source": [
    "The RHESSys workflows automatically adds metadata required by the proceeding functions/tools. If the user has created a new GI Soil data layer, she/he will need to modify the metadata to include soils. <br>\n",
    "<br>\n",
    "The **GI_Soil.py** python script does this for you. The **inputs** are: <br>\n",
    "[1] **-s** MapunitPolyExtended.shp, the name of the soil shapefile. <br>\n",
    "[2] **-p** The directory to which metadata, intermediate, and final files should be saved.<br>\n",
    "[3] **--overwrite** Overwrite existing SSURGO features shapefile in project directory.  If not specified, program will halt if a dataset already exists.<br>"
   ]
  },
  {
   "cell_type": "code",
   "execution_count": null,
   "metadata": {
    "collapsed": false
   },
   "outputs": [],
   "source": [
    "python_file_and_inputs = '/home/jovyan/work/notebooks/GI_Soil.py -s MapunitPolyExtended.shp --overwrite -p ' + w.sub_project_folder\n",
    "print(python_file_and_inputs)\n",
    "%run $python_file_and_inputs\n",
    "print('Finished Step3c')"
   ]
  },
  {
   "cell_type": "code",
   "execution_count": null,
   "metadata": {
    "collapsed": false
   },
   "outputs": [],
   "source": [
    "w.GenerateSoilPropertyRastersFromSSURGO(w.sub_project_folder)\n",
    "print('Finished Step3d')"
   ]
  },
  {
   "cell_type": "markdown",
   "metadata": {},
   "source": [
    "## Step 4 Download Landcover from GI Design ( NEW - STEP )\n",
    "### The user will need to have created a landcover GI design"
   ]
  },
  {
   "cell_type": "code",
   "execution_count": null,
   "metadata": {
    "collapsed": false
   },
   "outputs": [],
   "source": [
    "print(landuse_download_url);\n",
    "\n",
    "zipfolder = w.sub_project_folder + '/RHESSys_ETV/GI_Landuse'\n",
    "\n",
    "w.create_path(zipfolder)\n",
    "zipfilepathname = 'GI_Landuse.zip'\n",
    "\n",
    "!wget $landuse_download_url -P $zipfolder\n",
    "\n",
    "input_location = zipfolder + '/' + zipfilepathname\n",
    "etv_output_folder_location = zipfolder\n",
    "\n",
    "w.unzip_etv_zip_file_at_path(input_location, etv_output_folder_location)\n",
    "print('Finished Step4a')"
   ]
  },
  {
   "cell_type": "code",
   "execution_count": null,
   "metadata": {
    "collapsed": false
   },
   "outputs": [],
   "source": [
    "landcover_fullpathname =  w.sub_project_folder + '/RHESSys_ETV/GI_Landuse/GI_LandCover.tif'\n",
    "options = \" -p \" + w.sub_project_folder + \" -t landcover -r \" + landcover_fullpathname + \" --force\"\n",
    "print(options)\n",
    "w.RegisterRasterOptions(options)\n",
    "print('Finished Step4b')"
   ]
  },
  {
   "cell_type": "markdown",
   "metadata": {},
   "source": [
    "## Step 5 Prepare LAI Data"
   ]
  },
  {
   "cell_type": "code",
   "execution_count": null,
   "metadata": {
    "collapsed": false
   },
   "outputs": [],
   "source": [
    "lai_fullpathname_Src = w.sub_project_folder + datasource_folder + 'lai.tif'\n",
    "lai_fullpathname_Dec = w.sub_project_folder + '/lai_test.tif'\n",
    "shutil.copy(lai_fullpathname_Src, lai_fullpathname_Dec)\n",
    "\n",
    "options = \" -p \" + w.sub_project_folder + \" -t lai -r \" + lai_fullpathname_Dec + \" --force\"\n",
    "#print(options)\n",
    "w.RegisterRasterOptions(options)\n",
    "print('Finished Step5')"
   ]
  },
  {
   "cell_type": "markdown",
   "metadata": {},
   "source": [
    "## Step 6 Create a new GRASS GIS Location"
   ]
  },
  {
   "cell_type": "code",
   "execution_count": null,
   "metadata": {
    "collapsed": false
   },
   "outputs": [],
   "source": [
    "output = w.CreateGRASSLocationFromDEM(w.sub_project_folder, '\"Dead Run 5 near Catonsville, 3m model\"')\n",
    "#print(output)\n",
    "print('Finished Step6')"
   ]
  },
  {
   "cell_type": "markdown",
   "metadata": {},
   "source": [
    "## Step 7 Import RHESSys Code"
   ]
  },
  {
   "cell_type": "code",
   "execution_count": null,
   "metadata": {
    "collapsed": false
   },
   "outputs": [],
   "source": [
    "output = w.ImportRHESSysSource(w.sub_project_folder)\n",
    "print('Finished Step7')"
   ]
  },
  {
   "cell_type": "markdown",
   "metadata": {},
   "source": [
    "## Step 8 Import Climate Data"
   ]
  },
  {
   "cell_type": "code",
   "execution_count": null,
   "metadata": {
    "collapsed": false
   },
   "outputs": [],
   "source": [
    "w.climate_data_fullpathname = w.sub_project_folder + datasource_folder + 'rhessys/clim'\n",
    "w.ImportClimateData(w.sub_project_folder, w.climate_data_fullpathname)\n",
    "print('Finished Step8')"
   ]
  },
  {
   "cell_type": "markdown",
   "metadata": {},
   "source": [
    "## Step 9 Delineate Watershed"
   ]
  },
  {
   "cell_type": "code",
   "execution_count": null,
   "metadata": {
    "collapsed": true
   },
   "outputs": [],
   "source": [
    "cell_size = 3000\n",
    "area_estimate = 1.6\n",
    "output = w.DelineateWatershed(w.sub_project_folder, cell_size, area_estimate)\n",
    "print('Finished Step9')"
   ]
  },
  {
   "cell_type": "markdown",
   "metadata": {},
   "source": [
    "## Step 10 GeneratePatchMap"
   ]
  },
  {
   "cell_type": "code",
   "execution_count": null,
   "metadata": {
    "collapsed": false
   },
   "outputs": [],
   "source": [
    "patch_options = \" -p \" + w.sub_project_folder + \" -t grid\"\n",
    "w.GeneratePatchMapOptions(patch_options)\n",
    "print('Finished Step10')"
   ]
  },
  {
   "cell_type": "markdown",
   "metadata": {},
   "source": [
    "## Step 11 Process Soil Texture Map"
   ]
  },
  {
   "cell_type": "code",
   "execution_count": null,
   "metadata": {
    "collapsed": false
   },
   "outputs": [],
   "source": [
    "output = w.GenerateSoilTextureMap(w.sub_project_folder, options='--overwrite')\n",
    "print(output)\n",
    "print('Finished Step11')"
   ]
  },
  {
   "cell_type": "markdown",
   "metadata": {},
   "source": [
    "## Step 12 Generate derived landcover maps"
   ]
  },
  {
   "cell_type": "code",
   "execution_count": null,
   "metadata": {
    "collapsed": false
   },
   "outputs": [],
   "source": [
    "leafc_fullpathname_Src = w.sub_project_folder + datasource_folder + 'leafc.tif'\n",
    "leafc_fullpathname_Dec = w.sub_project_folder + '/leafc_test.tif'\n",
    "shutil.copy(leafc_fullpathname_Src, leafc_fullpathname_Dec)\n",
    "\n",
    "options = \" -p \" + w.sub_project_folder + \" -t leafc -r \" + leafc_fullpathname_Dec + \" --force\"\n",
    "#print(options)\n",
    "w.RegisterRasterOptions(options)\n",
    "print('Finished Step12a')"
   ]
  },
  {
   "cell_type": "code",
   "execution_count": null,
   "metadata": {
    "collapsed": false
   },
   "outputs": [],
   "source": [
    "rootdepth_fullpathname_Src = w.sub_project_folder + datasource_folder + 'rootdepth.tif'\n",
    "rootdepth_fullpathname_Dec = w.sub_project_folder + '/rootdepth_test.tif'\n",
    "shutil.copy(rootdepth_fullpathname_Src, rootdepth_fullpathname_Dec)\n",
    "\n",
    "options = \" -p \" + w.sub_project_folder + \" -t rootdepth -r \" + rootdepth_fullpathname_Dec + \" --force\"\n",
    "#print(options)\n",
    "w.RegisterRasterOptions(options)\n",
    "print('Finished Step12b')"
   ]
  },
  {
   "cell_type": "code",
   "execution_count": null,
   "metadata": {
    "collapsed": false
   },
   "outputs": [],
   "source": [
    "w.ImportRasterMapIntoGRASS(w.sub_project_folder, 'landcover', 'nearest')\n",
    "w.ImportRasterMapIntoGRASS(w.sub_project_folder, 'lai', 'nearest')\n",
    "w.ImportRasterMapIntoGRASS(w.sub_project_folder, 'leafc', 'nearest')\n",
    "w.ImportRasterMapIntoGRASS(w.sub_project_folder, 'rootdepth', 'nearest')\n",
    "w.ImportRasterMapIntoGRASS(w.sub_project_folder, 'roof_connectivity', 'nearest')\n",
    "print('Finished Step12c')"
   ]
  },
  {
   "cell_type": "markdown",
   "metadata": {},
   "source": [
    "## Step 13 Generate Rules and Reclassify"
   ]
  },
  {
   "cell_type": "code",
   "execution_count": null,
   "metadata": {
    "collapsed": false
   },
   "outputs": [],
   "source": [
    "options = \" -p \" + w.sub_project_folder + \" -b --includeLaiRules\"\n",
    "w.RegisterLandcoverReclassRulesOptions(options)\n",
    "print('Finished Step13a')"
   ]
  },
  {
   "cell_type": "code",
   "execution_count": null,
   "metadata": {
    "collapsed": false
   },
   "outputs": [],
   "source": [
    "#lc_options = \" -p \" + w.sub_project_folder + \" -l \"\n",
    "lc_options = \" -p \" + w.sub_project_folder + \" --makeLaiMap --overwrite\"\n",
    "print(lc_options)\n",
    "w.GenerateLandcoverMapsOptions(lc_options)\n",
    "print('Finished Step13b')"
   ]
  },
  {
   "cell_type": "markdown",
   "metadata": {},
   "source": [
    "## Step 14 Generate World Template\n",
    "\n",
    "cd ~/data/dead_run_withGI/dead_run_withGI/RHESSys_ETV/DR5_3m_nonburned_DEM_rain_duration_DEM_float_lctest_raingarden/rhessys/de\n",
    "fs\n",
    "\n",
    "cp *.def ~/data/dead_run_withGI/dead_run_withGI/rhessys/defs/\n",
    "\n"
   ]
  },
  {
   "cell_type": "code",
   "execution_count": null,
   "metadata": {
    "collapsed": true
   },
   "outputs": [],
   "source": [
    "dir_src = w.sub_project_folder + datasource_folder + 'rhessys/defs/'\n",
    "dir_dst = w.sub_project_folder + '/rhessys/defs/'\n",
    "for filename in os.listdir(dir_src):\n",
    "    if filename.endswith('.def'):\n",
    "        shutil.copy( dir_src + filename, dir_dst)\n",
    "print('Finished Step14a')"
   ]
  },
  {
   "cell_type": "code",
   "execution_count": null,
   "metadata": {
    "collapsed": false
   },
   "outputs": [],
   "source": [
    "world_options = \" -p \" + w.sub_project_folder + \" -c dr5_composite5\"\n",
    "##world_options = \" -p \" + w.sub_project_folder\n",
    "##rint(world_options)\n",
    "output = w.GenerateWorldTemplateOptions(world_options)\n",
    "print(output)\n",
    "print('Finished Step14b')"
   ]
  },
  {
   "cell_type": "markdown",
   "metadata": {},
   "source": [
    "## EDITS REQUIRED using vi at terminal window\n",
    "\n",
    "cd w.sub_project_folder/rhessys/defs <br>\n",
    "cp landuse_undeveloped.def landuse_test.def <br>\n",
    "cp stratum_deciduous_BES.def stratum_test.def <br>\n",
    "Using a text editor modify the template file. i.e. vi landuse_test.def <br>\n",
    "vi landuse_test.def Change the number of the first line to match the missing ID above. i.e. 0 Save File and Close <br>\n",
    "vi stratum_test.def Change the number of the first line to match the missing ID above. i.e. 0 Save File and Close <br>\n",
    "Change your directory to rhessys\\templates <br>\n",
    "cd w.sub_project_folder/rhessys/templates <br>\n",
    "Using a text editor modify the template file. i.e. vi template <br>\n",
    "Modify the number of defs/landuse definitions from 3 to 4. <br>\n",
    "Modify the number of defs/stratum_ definitions from 3 to 4. <br>\n",
    "Then add the new def file to the template. <br>\n"
   ]
  },
  {
   "cell_type": "markdown",
   "metadata": {},
   "source": [
    "## Step 15 Create World File"
   ]
  },
  {
   "cell_type": "code",
   "execution_count": null,
   "metadata": {
    "collapsed": false
   },
   "outputs": [],
   "source": [
    "output = w.CreateWorldfile(w.sub_project_folder)\n",
    "#print(output)\n",
    "print('Finished Step15')"
   ]
  },
  {
   "cell_type": "markdown",
   "metadata": {},
   "source": [
    "## Step 16 Create Flow Table"
   ]
  },
  {
   "cell_type": "code",
   "execution_count": null,
   "metadata": {
    "collapsed": false
   },
   "outputs": [],
   "source": [
    "#flow_options = \" -p \" + w.sub_project_folder + \" --routeRoads --routeRoofs -v\"\n",
    "flow_options = \" -p \" + w.sub_project_folder\n",
    "print(flow_options)\n",
    "w.CreateFlowtableOptions(flow_options)\n",
    "print('Finished Step16')"
   ]
  },
  {
   "cell_type": "markdown",
   "metadata": {},
   "source": [
    "## Step 17 Initializing vegetation carbon and nitrogen stores "
   ]
  },
  {
   "cell_type": "markdown",
   "metadata": {},
   "source": [
    "If the manual edits failed, users will see error messages here. <br>\n",
    "If errors occur, **Steps 15 to 17** will need to be repeated.\n"
   ]
  },
  {
   "cell_type": "code",
   "execution_count": null,
   "metadata": {
    "collapsed": false
   },
   "outputs": [],
   "source": [
    "#flow_options = \" -p \" + w.sub_project_folder + \" --routeRoads --routeRoofs -v\"\n",
    "flow_options = \" -p \" + w.sub_project_folder\n",
    "print(flow_options)\n",
    "w.CreateFlowtableOptions(flow_options)\n",
    "print('Finished Step17a')"
   ]
  },
  {
   "cell_type": "code",
   "execution_count": null,
   "metadata": {
    "collapsed": false
   },
   "outputs": [],
   "source": [
    "w.RunLAIRead(w.sub_project_folder)\n",
    "print('Finished Step17b')"
   ]
  },
  {
   "cell_type": "markdown",
   "metadata": {},
   "source": [
    "## Step 18 Creating a RHESSys TEC file"
   ]
  },
  {
   "cell_type": "code",
   "execution_count": null,
   "metadata": {
    "collapsed": false
   },
   "outputs": [],
   "source": [
    "w.RunCmd(w.sub_project_folder, 3)\n",
    "print('Finished Step18')"
   ]
  },
  {
   "cell_type": "markdown",
   "metadata": {},
   "source": [
    "## Step 19 Running RHESSys models"
   ]
  },
  {
   "cell_type": "code",
   "execution_count": null,
   "metadata": {
    "collapsed": false
   },
   "outputs": [],
   "source": [
    "runmodel_options = \" -p \" + w.sub_project_folder + ' -d \\\"Test model run\\\" --basin -pre test -st 2008 1 1 1 -ed 2010 1 1 1 -w world_init -t tec_daily.txt -r world.flow -- -s 0.07041256017 133.552915269 1.81282283058 -sv 4.12459677088 78.3440566535 -gw 0.00736592779294 0.340346799457'\n",
    "print(runmodel_options)\n",
    "w.RunModelOptions(runmodel_options)\n",
    "print('Finished Step19')"
   ]
  },
  {
   "cell_type": "code",
   "execution_count": null,
   "metadata": {
    "collapsed": true
   },
   "outputs": [],
   "source": []
  }
 ],
 "metadata": {
  "kernelspec": {
   "display_name": "Python 2",
   "language": "python",
   "name": "python2"
  },
  "language_info": {
   "codemirror_mode": {
    "name": "ipython",
    "version": 2
   },
   "file_extension": ".py",
   "mimetype": "text/x-python",
   "name": "python",
   "nbconvert_exporter": "python",
   "pygments_lexer": "ipython2",
   "version": "2.7.12"
  }
 },
 "nbformat": 4,
 "nbformat_minor": 2
}
