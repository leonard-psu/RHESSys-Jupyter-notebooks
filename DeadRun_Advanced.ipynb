{
 "cells": [
  {
   "cell_type": "markdown",
   "metadata": {},
   "source": [
    "# Dead Run RHESSys Workflow\n",
    "<br />\n",
    "RHESSysWorkflows provides a series of Python tools for performing [RHESSys](https://github.com/RHESSys/RHESSys) data preparation workflows. These tools build on the workflow system defined by [EcohydroLib](https://github.com/selimnairb/EcohydroLib) and [RHESSysWorkflows](https://github.com/selimnairb/RHESSysWorkflows).\n",
    "<br />\n",
    "### This notebook uses custom datasets and is for advanced users comfortable with a linux terminal and using text editor such as Vi.\n",
    "<br />\n",
    "Dead Run, USGS gage [01589330](http://waterdata.usgs.gov/usa/nwis/uv?01589330) is located at Franklintown MD.\n",
    "<br />\n",
    "\n",
    "### The general steps to use RHESSys workflows \n",
    "1 Register DEM <br />\n",
    "2 Import Gage <br />\n",
    "3 Download soil data<br />\n",
    "4 Prepare Land Cover data<br />\n",
    "5 Download LAI data<br />\n",
    "6 Create a new GRASS GIS Location<br />\n",
    "7 Import RHESSys code and compile (automatically or manually)<br />\n",
    "8 Import Climate data<br />\n",
    "9 Delineate watershed <br />\n",
    "10 Generate Patch map <br />\n",
    "11 Process soil maps <br />\n",
    "12 Generate derived landcover maps<br />\n",
    "13 Generate Rules and Reclassify <br />\n",
    "14 Generate template <br />\n",
    "15 Create world <br />\n",
    "16 Create flow table <br />\n",
    "17 Initializing vegetation carbon and nitrogen stores <br />\n",
    "18 Creating a RHESSys TEC file <br />\n",
    "19 Running RHESSys models <br />\n",
    "\n",
    "This notebook is built on **RHESSys sample workflow** and **RHESSys Workflow at Coweeta, NC** examples. Not all steps are documented. Here we focus on explaining new or modifications. <br/>\n",
    "<br/>\n",
    "Users interested in seeing step outputs, remove **output = ** from the command line. Ouput and messages are also available in the log file."
   ]
  },
  {
   "cell_type": "code",
   "execution_count": null,
   "metadata": {
    "collapsed": true
   },
   "outputs": [],
   "source": [
    "import os\n",
    "import logging\n",
    "import hs_utils\n",
    "import shutil\n",
    "from rhessys_wf import *\n",
    "%matplotlib inline"
   ]
  },
  {
   "cell_type": "code",
   "execution_count": null,
   "metadata": {
    "collapsed": false
   },
   "outputs": [],
   "source": [
    "w = RHESSysWorkflow(project_name='dead_run_testV2', \n",
    "                    gageid='custom',\n",
    "                    start_date='2008-01-01',\n",
    "                    end_date='2010-01-01'\n",
    "                    )"
   ]
  },
  {
   "cell_type": "code",
   "execution_count": null,
   "metadata": {
    "collapsed": false
   },
   "outputs": [],
   "source": [
    "hs = hs_utils.hydroshare()"
   ]
  },
  {
   "cell_type": "markdown",
   "metadata": {},
   "source": [
    "### Please note: This resource is large and retrieving may take a few minutes."
   ]
  },
  {
   "cell_type": "code",
   "execution_count": null,
   "metadata": {
    "collapsed": false
   },
   "outputs": [],
   "source": [
    "resource_id = '6dbb0dfb8f3a498881e4de428cb1587c'\n",
    "# get ETV data bundle for this tutotial stored on HydroShare\n",
    "content = hs.getResourceFromHydroShare(resource_id)"
   ]
  },
  {
   "cell_type": "markdown",
   "metadata": {},
   "source": [
    "### Please note: This resource is large and unzipping may take a few minutes."
   ]
  },
  {
   "cell_type": "code",
   "execution_count": null,
   "metadata": {
    "collapsed": false
   },
   "outputs": [],
   "source": [
    "zipfolder = w.sub_project_folder + '/RHESSys_ETV'\n",
    "w.create_path(zipfolder)\n",
    "zipfilepathname = hs.content['DR5_3m_nonburned_DEM_rain_duration_DEM_float_lctest_raingarden.zip']\n",
    "w.unzip_etv_zip_file_at_path(zipfilepathname, zipfolder)\n",
    "print 'Unzip Finished'"
   ]
  },
  {
   "cell_type": "markdown",
   "metadata": {},
   "source": [
    "## Step 1 DEM\n",
    "\n",
    "From the HydroShare resource downloaded above, a DEM is provided for DeadRun. The DEM.tif is location in the **zipfolder** location. If you are using a different resource, you will need to change the **datasource_folder** and  **demfile** values below. These changes are required with other data steps below. <br/><br/>\n",
    "The **os.environ[\"GDAL_DATA\"]** indicates to PYTHON where the GDAL installation is. If you have compiled GDAL (i.e. for specialized libraries) in your environment, change this value.\n",
    "<br/><br/>\n",
    "\n",
    "**RegisterDEM** will result in the DEM being copied to your project directory, and the DEM spatial resolution will determine the default spatial resolution of your project (i.e. other rasters imported to your project will by default be resampled to the match the DEM resolution and spatial reference). Also, the DEM extent will be used to determine the bounding box for the study area; a polygon of the DEM extent will be generated and saved as a shapefile in your project directory."
   ]
  },
  {
   "cell_type": "code",
   "execution_count": null,
   "metadata": {
    "collapsed": false
   },
   "outputs": [],
   "source": [
    "os.environ[\"GDAL_DATA\"] = \"/opt/conda/share/gdal\"\n",
    "datasource_folder = '/RHESSys_ETV/DR5_3m_nonburned_DEM_rain_duration_DEM_float_lctest_raingarden/'\n",
    "demfile = w.sub_project_folder + datasource_folder + 'DEM.tif'\n",
    "#print(demfile)\n",
    "w.RegisterDEM(w.sub_project_folder, demfile)"
   ]
  },
  {
   "cell_type": "markdown",
   "metadata": {},
   "source": [
    "## Step 2 Import Gage\n",
    "We will use the **RegisterGage** tool to tell EcohydroLib the coordinates of the Dead Run streamflow gage. This tool takes as input a point shapefile containing one or more points; the WGS84 lat-lon coordinates for the desired gage will be extracted from the shapefile. These coordinates will be written to the metadata store, and a new point shapefile containing a point only for the selected gage will be created in the project directory. <br/><br/>\n",
    "You will need to determine the **shape field** with the **id_attribute**. You can use GIS products from GDAL, ESRI, QGIS to determine these values.\n"
   ]
  },
  {
   "cell_type": "code",
   "execution_count": null,
   "metadata": {
    "collapsed": false
   },
   "outputs": [],
   "source": [
    "gagefile = w.sub_project_folder + '/RHESSys_ETV/DR5_3m_nonburned_DEM_rain_duration_DEM_float_lctest_raingarden/gage.shp'\n",
    "layername = 'gage'\n",
    "id_attribute = 'gage_id'\n",
    "id_value = '01589312'\n",
    "\n",
    "print(gagefile)\n",
    "w.RegisterGage(w.sub_project_folder, gagefile, layername, id_attribute, id_value)"
   ]
  },
  {
   "cell_type": "markdown",
   "metadata": {},
   "source": [
    "## Step 3 Download Soil"
   ]
  },
  {
   "cell_type": "markdown",
   "metadata": {},
   "source": [
    "The USDA NRCS provides the [Soil Data Mart](http://sdmdataaccess.nrcs.usda.gov/), a web services-based interface for querying and downloading high-resolution SSURGO soils data."
   ]
  },
  {
   "cell_type": "code",
   "execution_count": null,
   "metadata": {
    "collapsed": true
   },
   "outputs": [],
   "source": [
    "output = w.get_SSURGOFeaturesForBoundingbox(w.sub_project_folder)\n",
    "output = w.GenerateSoilPropertyRastersFromSSURGO(w.sub_project_folder)"
   ]
  },
  {
   "cell_type": "markdown",
   "metadata": {},
   "source": [
    "## Step 4 Prepare Landcover Data\n",
    "From the HydroShare resource downloaded above, a Landcover raster dataset is provided for DeadRun. The landcover.tif is location in the **zipfolder** location. If you are using a different resource, you will need to change the **datasource_folder** and **landcover.tif** values below. <br/><br/>"
   ]
  },
  {
   "cell_type": "code",
   "execution_count": null,
   "metadata": {
    "collapsed": true
   },
   "outputs": [],
   "source": [
    "landcover_fullpathname_Src = w.sub_project_folder + datasource_folder + 'landcover.tif'\n",
    "landcover_fullpathname_Dec = w.sub_project_folder + '/landcover_test.tif'\n",
    "shutil.copy(landcover_fullpathname_Src, landcover_fullpathname_Dec)"
   ]
  },
  {
   "cell_type": "markdown",
   "metadata": {},
   "source": [
    "We'll use the **RegisterRaster** command to import landcover data into our project. By default, RegisterRaster will resample the raster it is importing (landcover in this case) to match the spatial reference and resolution of the DEM."
   ]
  },
  {
   "cell_type": "code",
   "execution_count": null,
   "metadata": {
    "collapsed": false
   },
   "outputs": [],
   "source": [
    "landcover_fullpathname = w.sub_project_folder + '/landcover_test.tif'\n",
    "options = \" -p \" + w.sub_project_folder + \" -t landcover -r \" + landcover_fullpathname + \" --force\"\n",
    "#print(options)\n",
    "w.RegisterRasterOptions(options)"
   ]
  },
  {
   "cell_type": "markdown",
   "metadata": {},
   "source": [
    "## Step 5 Prepare LAI Data"
   ]
  },
  {
   "cell_type": "code",
   "execution_count": null,
   "metadata": {
    "collapsed": false
   },
   "outputs": [],
   "source": [
    "lai_fullpathname_Src = w.sub_project_folder + datasource_folder + 'lai.tif'\n",
    "lai_fullpathname_Dec = w.sub_project_folder + '/lai_test.tif'\n",
    "shutil.copy(lai_fullpathname_Src, lai_fullpathname_Dec)\n",
    "\n",
    "options = \" -p \" + w.sub_project_folder + \" -t lai -r \" + lai_fullpathname_Dec + \" --force\"\n",
    "#print(options)\n",
    "w.RegisterRasterOptions(options)"
   ]
  },
  {
   "cell_type": "markdown",
   "metadata": {},
   "source": [
    "## Step 6 Create a new GRASS GIS Location\n",
    "\n",
    "RHESSys requires that all spatial data used to create a world file and flow table for a RHESSys model be stored in a GRASS GIS mapset. We'll start building these data in RHESSysWorkflows by creating a new GRASS location and mapset within our project directory, and importing our DEM into this mapset using the **CreateGRASSLocationFromDEM** tool. <br/>\n",
    "Note: Output from CreateGRASSLocationFromDEM has been piped to output variable. For debugging, uncomment print statement (i.e. remove #)."
   ]
  },
  {
   "cell_type": "code",
   "execution_count": null,
   "metadata": {
    "collapsed": false
   },
   "outputs": [],
   "source": [
    "output = w.CreateGRASSLocationFromDEM(w.sub_project_folder, '\"Dead Run 5 near Catonsville, 3m model\"')\n",
    "print(output)"
   ]
  },
  {
   "cell_type": "markdown",
   "metadata": {},
   "source": [
    "## Step 7 Import RHESSys Code\n",
    "To create worldfiles and flow tables RHESSysWorkflows needs a copy of RHESSys source code. RHESSysWorkflows also uses the new RHESSys ParamDB database and Python libraries to generate vegetation, soil, land use and other parameters needed by RHESSys. RHESSysWorkflows is only compatible with the pre-release version of RHESSys 5.16 and later versions of the code. At present, and for first-time users, the most reliable way to import ParamDB and RHESSys source code into your project is to download the code from GitHub using the **ImportRHESSysSource** tool. However, this tool is also capable of importing RHESSys source code stored on your computer. This allows you to import the code from a previous RHESSysWorkflows project; ParamDB is always downloaded from GitHub, even when RHESSys source code is imported from a local source."
   ]
  },
  {
   "cell_type": "code",
   "execution_count": null,
   "metadata": {
    "collapsed": false
   },
   "outputs": [],
   "source": [
    "output = w.ImportRHESSysSource(w.sub_project_folder)\n",
    "print 'Step Finished'"
   ]
  },
  {
   "cell_type": "markdown",
   "metadata": {},
   "source": [
    "## Step 8 Import Climate Data\n",
    "\n",
    "Because of the great variability of climate data formats, and the complexity of time-series workflows, we have chosen to focus development effort on RHESSysWorkflows toward making it easier to acquire and manipulate geospatial data required for building RHESSys work files and flow tables. This means that the modeler is responsible for building the climate data necessary for building RHESSys world files and performing model runs.\n",
    "\n",
    "RHESSysWorkflows provides the **ImportClimateData** tool to import RHESSys climate data into your project:"
   ]
  },
  {
   "cell_type": "code",
   "execution_count": null,
   "metadata": {
    "collapsed": false
   },
   "outputs": [],
   "source": [
    "w.climate_data_fullpathname = w.sub_project_folder + datasource_folder + 'rhessys/clim'\n",
    "w.ImportClimateData(w.sub_project_folder, w.climate_data_fullpathname)"
   ]
  },
  {
   "cell_type": "markdown",
   "metadata": {},
   "source": [
    "## Step 9 Delineate Watershed\n",
    "RHESSysWorkflows automates the process of delineating your study watershed based on the location of the streamflow gage registered in the workflow using EcohydroLib. As part of this process, many datasets needed by RHESSys will be derived from the DEM. To delineate the watershed we use the **DelineateWatershed** tool.\n",
    "\n",
    "Here the **cell_size** parameter specifies the minimum size (in DEM cells) for subwatersheds generated by the GRASS command r.watershed.\n",
    "\n",
    "The **area_estimate** parameter allows you to provide a guess of the area (in sq. km) of the delineated watershed. DelineateWatershed will report whether the watershed is within 20% of the area. You can view the delineated watershed in GRASS by displaying the raster map named basin. If the area or the shape of the delineated watershed differs greatly from what you expect, you may need to vary how DelineateWatershed snaps your streamflow gage onto the stream network. This is accomplished by either changing the -s (a.k.a. --streamThreshold) or stream threshold parameter and/or the -w (a.k.a. --streamWindow) parameter passed to r.findtheriver.\n",
    "\n",
    "### Please note: If you used a different resource from HydroShare, you will need to modify the parameters."
   ]
  },
  {
   "cell_type": "code",
   "execution_count": null,
   "metadata": {
    "collapsed": true
   },
   "outputs": [],
   "source": [
    "cell_size = 3000\n",
    "area_estimate = 1.6\n",
    "output = w.DelineateWatershed(w.sub_project_folder, cell_size, area_estimate)\n",
    "#print(output)"
   ]
  },
  {
   "cell_type": "markdown",
   "metadata": {},
   "source": [
    "## Step 10 Generate Patch Map\n",
    "\n",
    "RHESSysWorkflows provides **GeneratePatchMap**, an automated tool for creating gridded and clumped patch maps. Gridded patch maps consist of a regular grid of the same resolution and extent as the DEM; clumped maps can be created using elevation or topographic wetness index rasters. Modelers can also use custom patch maps registered via EcohydroLib's RegisterRaster tool and imported into GRASS using ImportRasterMapIntoGRASS. "
   ]
  },
  {
   "cell_type": "code",
   "execution_count": null,
   "metadata": {
    "collapsed": false
   },
   "outputs": [],
   "source": [
    "patch_options = \" -p \" + w.sub_project_folder + \" -t grid\"\n",
    "w.GeneratePatchMapOptions(patch_options)"
   ]
  },
  {
   "cell_type": "markdown",
   "metadata": {},
   "source": [
    "## Step 11 Process Soil Texture Map\n",
    "Since we used EcohydroLib's SSURGO tools to generate percent sand and percent clay raster maps for our watershed, we can use the GRASS add-on r.soils.texture to generate USDA soil texture classes, for which RHESSys's ParamDB contains parameters. It is also possible to use custom soil maps (refer to the [Tutorial](https://github.com/selimnairb/RHESSysWorkflows#generating-rhessys-definitions-for-custom-soil-data)).\n",
    "\n",
    "To generate our soil texture map in GRASS, as well as the corresponding RHESSys soil definition files, use the **GenerateSoilTextureMap** tool as follows:"
   ]
  },
  {
   "cell_type": "code",
   "execution_count": null,
   "metadata": {
    "collapsed": false
   },
   "outputs": [],
   "source": [
    "output = w.GenerateSoilTextureMap(w.sub_project_folder, options='--overwrite')\n",
    "#print(output)"
   ]
  },
  {
   "cell_type": "markdown",
   "metadata": {},
   "source": [
    "## Step 12 Generate derived landcover maps\n",
    "\n",
    "Here we register leaf coverage."
   ]
  },
  {
   "cell_type": "code",
   "execution_count": null,
   "metadata": {
    "collapsed": false
   },
   "outputs": [],
   "source": [
    "leafc_fullpathname_Src = w.sub_project_folder + datasource_folder + 'leafc.tif'\n",
    "leafc_fullpathname_Dec = w.sub_project_folder + '/leafc_test.tif'\n",
    "shutil.copy(leafc_fullpathname_Src, leafc_fullpathname_Dec)\n",
    "\n",
    "options = \" -p \" + w.sub_project_folder + \" -t leafc -r \" + leafc_fullpathname_Dec + \" --force\"\n",
    "#print(options)\n",
    "w.RegisterRasterOptions(options)"
   ]
  },
  {
   "cell_type": "markdown",
   "metadata": {},
   "source": [
    "Here we register rootdepth."
   ]
  },
  {
   "cell_type": "code",
   "execution_count": null,
   "metadata": {
    "collapsed": false
   },
   "outputs": [],
   "source": [
    "rootdepth_fullpathname_Src = w.sub_project_folder + datasource_folder + 'rootdepth.tif'\n",
    "rootdepth_fullpathname_Dec = w.sub_project_folder + '/rootdepth_test.tif'\n",
    "shutil.copy(rootdepth_fullpathname_Src, rootdepth_fullpathname_Dec)\n",
    "\n",
    "options = \" -p \" + w.sub_project_folder + \" -t rootdepth -r \" + rootdepth_fullpathname_Dec + \" --force\"\n",
    "#print(options)\n",
    "w.RegisterRasterOptions(options)"
   ]
  },
  {
   "cell_type": "markdown",
   "metadata": {},
   "source": [
    "Now we generating these maps from your project directory into GRASS using the **ImportRasterMapIntoGRASS** tool.\n",
    "### Please note: If you are using a different resource, edit these steps accordingly."
   ]
  },
  {
   "cell_type": "code",
   "execution_count": null,
   "metadata": {
    "collapsed": false
   },
   "outputs": [],
   "source": [
    "w.ImportRasterMapIntoGRASS(w.sub_project_folder, 'landcover', 'nearest')\n",
    "w.ImportRasterMapIntoGRASS(w.sub_project_folder, 'lai', 'nearest')\n",
    "w.ImportRasterMapIntoGRASS(w.sub_project_folder, 'leafc', 'nearest')\n",
    "w.ImportRasterMapIntoGRASS(w.sub_project_folder, 'rootdepth', 'nearest')\n",
    "w.ImportRasterMapIntoGRASS(w.sub_project_folder, 'roof_connectivity', 'nearest')"
   ]
  },
  {
   "cell_type": "markdown",
   "metadata": {},
   "source": [
    "## Step 13 Generate Rules and Reclassify\n",
    "\n",
    "Next, we need to provide raster reclassification rules so that RHESSysWorkflows will know how to generate vegetation, land use, roads, impervious, and LAI maps from the landcover map.\n",
    "To do this, we use the **RegisterLandcoverReclassRules** tool:\n",
    "\n",
    "Here the -b (a.k.a. --buildPrototypeRules) option is used to generate prototype rules that we can edit as needed. To include LAI recode rules when registering prototype or existing rules, also specify the -l (a.k.a. --includeLaiRules) option."
   ]
  },
  {
   "cell_type": "code",
   "execution_count": null,
   "metadata": {
    "collapsed": false,
    "scrolled": true
   },
   "outputs": [],
   "source": [
    "options = \" -p \" + w.sub_project_folder + \" -b --includeLaiRules\"\n",
    "w.RegisterLandcoverReclassRulesOptions(options)"
   ]
  },
  {
   "cell_type": "markdown",
   "metadata": {},
   "source": [
    "As run above, RegisterLandcoverReclassRules will result in the following four rules files being created in the rules directory of your project directory:\n",
    "\n",
    "    stratum.rule\n",
    "    landuse.rule\n",
    "    impervious.rule\n",
    "    road.rule\n",
    "    lai-recode.rule\n"
   ]
  },
  {
   "cell_type": "markdown",
   "metadata": {},
   "source": [
    "We will edit each of these files so that RHESSysWorkflows creates the correct maps for each map type. First, it's useful to understand a little about how these maps are made. RHESSysWorkflows uses GRASS's r.reclass command (r.recode for creating LAI maps), and so the rules files follow this format. <br/>\n",
    "It's important to note that the landcover reclass rules for stratum and landuse must result in raster maps whose values labels match class names present in the RHESSys ParamDB database. Thus, be very careful in editing the righthand side of the expressions in your stratum and landuse reclass rules."
   ]
  },
  {
   "cell_type": "markdown",
   "metadata": {},
   "source": [
    "Once the landcover reclass rules are in place, it is very easy to generate the raster maps derived from the landcover data as well as the vegetation and land use definition files needed by RHESSys using ***GenerateLandcoverMapsOptions*** tool."
   ]
  },
  {
   "cell_type": "code",
   "execution_count": null,
   "metadata": {
    "collapsed": false,
    "scrolled": true
   },
   "outputs": [],
   "source": [
    "#lc_options = \" -p \" + w.sub_project_folder + \" -l \"\n",
    "lc_options = \" -p \" + w.sub_project_folder + \" --makeLaiMap --overwrite\"\n",
    "#print(lc_options)\n",
    "output = w.GenerateLandcoverMapsOptions(lc_options)\n",
    "#print(output)"
   ]
  },
  {
   "cell_type": "markdown",
   "metadata": {},
   "source": [
    "## Step 14 Generate World Template\n",
    "\n",
    "Now we are almost ready to create the world file for our watershed. First we must create the template from which the world file will be created. To do this, we'll use the **GenerateWorldTemplate** tool. Fortunately this is very easy because the metadata store contains nearly all the information needed to create the template.\n",
    "\n",
    "The -c (a.k.a. --climateStation) option specifies the climate station to associate with this world file template. The --aspectMinSlopeOne option is necessary work around limitations in the program used to create the world file when the input DEM has areas of low slope.\n",
    "\n",
    "### Please note: If you used a different resource from HydroShare, you will need to modify the climate station parameter.\n",
    "\n",
    "Sometimes, definition files (def) required modification and/or creation using your text editor (i.e. vi). This resource has the necessary def files prepared and we need to copy them into the appropriate directory. Generating these def files are explained in the references listed at the top and bottom of the notebook."
   ]
  },
  {
   "cell_type": "code",
   "execution_count": null,
   "metadata": {
    "collapsed": false
   },
   "outputs": [],
   "source": [
    "dir_src = w.sub_project_folder + datasource_folder + 'rhessys/defs/'\n",
    "dir_dst = w.sub_project_folder + '/rhessys/defs/'\n",
    "for filename in os.listdir(dir_src):\n",
    "    if filename.endswith('.def'):\n",
    "        shutil.copy( dir_src + filename, dir_dst)"
   ]
  },
  {
   "cell_type": "markdown",
   "metadata": {},
   "source": [
    "**When using custom datasets, we recommend printing the output here to identify issues.**"
   ]
  },
  {
   "cell_type": "code",
   "execution_count": null,
   "metadata": {
    "collapsed": false
   },
   "outputs": [],
   "source": [
    "world_options = \" -p \" + w.sub_project_folder + \" -c dr5_composite3\"\n",
    "##world_options = \" -p \" + w.sub_project_folder\n",
    "##rint(world_options)\n",
    "output = w.GenerateWorldTemplateOptions(world_options)\n",
    "print(output)"
   ]
  },
  {
   "cell_type": "markdown",
   "metadata": {},
   "source": [
    "## Step 15 Create World File\n",
    "\n",
    "Now use the **CreateWorldfile** tool to create a world file using this template.\n",
    "Note: Output from CreateWorldfile has been piped to output variable. For debugging, uncomment print statement (i.e. remove #).\n",
    "\n",
    "**When using custom datasets, we recommend printing the output here to identify issues.**"
   ]
  },
  {
   "cell_type": "code",
   "execution_count": null,
   "metadata": {
    "collapsed": false
   },
   "outputs": [],
   "source": [
    "output = w.CreateWorldfile(w.sub_project_folder)\n",
    "#print(output)"
   ]
  },
  {
   "cell_type": "markdown",
   "metadata": {},
   "source": [
    "## Step 16 Create Flow Table\n",
    "As with worldfile creation, at this point in the workflow, RHESSysWorkflows's metadata store contains all the information needed to create a flow table using the createflowpaths (CF) RHESSys program. We'll use CreateFlowtable to create our flow table.\n",
    "\n",
    "This will result in the creation of a flow table called world.flow in the flow directory of your rhessys directory. Now we have almost everything we need to run RHESSys simulations.\n",
    "\n",
    "See the RHESSysWorkflows tutorial to learn how to [route surface flows for road pixels directly to the stream](https://github.com/selimnairb/RHESSysWorkflows#creating-the-flow-table) and [create surface flow tables using a roof connectivity map](https://github.com/selimnairb/RHESSysWorkflows#creating-a-surface-flow-table-using-a-roof-connectivity-map)\n"
   ]
  },
  {
   "cell_type": "code",
   "execution_count": null,
   "metadata": {
    "collapsed": false
   },
   "outputs": [],
   "source": [
    "##flow_options = \" -p \" + w.sub_project_folder + \" --routeRoads --routeRoofs -v\"\n",
    "flow_options = \" -p \" + w.sub_project_folder\n",
    "#print(flow_options)\n",
    "output = w.CreateFlowtableOptions(flow_options)"
   ]
  },
  {
   "cell_type": "markdown",
   "metadata": {},
   "source": [
    "## Step 17 Initializing vegetation carbon and nitrogen stores\n",
    "RHESSys provides a program called LAIread to initialize vegetation carbon and nitrogen stores in your world file.\n",
    "\n",
    "    Note, LAIread should only be used for RHESSys simulations with static vegetation (i.e. not dynamic vegetation mode enable via the -g command line option to RHESSys).\n",
    "\n",
    "Initializing carbon and nitrogen stores is a multi-step process that involves running LAI read to generate a redefine worldfile, running a 3-day RHESSys simulation to incorporate the redefine worldfile, writing out a new worldfile with initialized vegetation carbon and nitrogen stores. RHESSysWorkflows automates all of these processes for you using the tool RunLAIRead, which can even figure out what date to start the 3-day RHESSys simulation on based on your climate data.\n",
    "\n",
    "    In the current version of RHESSysWorkflows, RunLAIRead is only able to read simulation start dates from point time-series climate data. Users of ASCII or NetCDF gridded climate data must run LAI read by hand. The next release of RHESSysWorkflows will add support for gridded climate data to RunLAIRead.\n",
    "\n",
    "To initialize vegetation carbon and nitrogen stores, LAIread relies on allometric relationships between leaf area and carbon and nitrogen mass in various plant tissues (e.g. leaf, stem, root). Consult the RHESSys wiki for more information on allometric relationships used by LAIread. These allometric parameters have not yet been added to the RHESSys ParamDB database proper. A default version of the parameters for RHESSys base vegetation classes is stored in the RHESSys ParamDB source coderepository. RHESSysWorkflows stores this file under the name allometric.txt in the allometry folder of the ParamDB of your rhessys/db folder. \n"
   ]
  },
  {
   "cell_type": "markdown",
   "metadata": {},
   "source": [
    "### When this step fails, a text editor like vi is required to modify the template file.\n",
    "Messages such as:\n",
    "#For patch 1067562 Could not find vegtype of -2147483648   \n",
    "#FATAL ERROR: in construct_patch, landuse default ID 0 not found for patch 472919 \n",
    "#FATAL ERROR: in construct_patch, landuse default ID 0 not found for patch 472919      \n",
    "#FATAL ERROR: in construct_canopy_strata, canopy_strata default ID 0 not found. \n",
    "#For patch 1066207 Could not find vegtype of -2147483648 \n",
    "\n",
    "<br/>\n",
    "The tool below truncates these messages and reports -1 only.<br/>\n",
    "To fix the template, follow these steps:<br/>\n",
    " (1) Click on jupyter icon, top of the web page.<br/>\n",
    " (2) Under **Files** tab control, click on **new** and start a new terminal.<br/>\n",
    " (3) Change your directory to the **w.sub_project_folder** location.<br/>\n",
    " i.e. **w.sub_project_folder** equals /home/jovyan/work/notebooks/data/dead_run_testV2/dead_run_testV2\n",
    " <br/>\n",
    " Run the command RunLAIRead.py -v -p= **w.sub_project_folder**                                                                                                          \n",
    " <br/>\n",
    " You will see messages similar to these: <br/>\n",
    " FATAL ERROR: in construct_patch, **landuse default ID 0** not found for patch 472919  <br/>\n",
    " FATAL ERROR: in construct_canopy_strata, **canopy_strata default ID 0** not found.  <br/>\n",
    " <br/>\n",
    " ### To fix these issues: <br/>\n",
    " cd **w.sub_project_folder**/rhessys/defs  <br/>\n",
    " cp landuse_undeveloped.def landuse_test.def <br/>\n",
    " cp stratum_deciduous.def stratum_test.def <br/>\n",
    " Using a text editor modify the template file. i.e. vi landuse_test.def <br/>\n",
    " vi landuse_test.def Change the number of the first line to match the missing ID above. i.e. 0 Save File and Close <br/>\n",
    " vi stratum_test.def Change the number of the first line to match the missing ID above. i.e. 0 Save File and Close <br/>\n",
    "Change your directory to rhessys\\templates<br/>\n",
    "cd **w.sub_project_folder**/rhessys/templates  <br/>\n",
    " Using a text editor modify the template file. i.e. vi template<br/>\n",
    "Modify the number of defs/landuse definitions from 3 to 4.<br/>\n",
    "Modify the number of defs/stratum_ definitions from 3 to 4.<br/>\n",
    "Then add the new def file to the template.<br/>\n",
    "     <br/>\n",
    "Then re-run these steps until you see no errors returned from RunLAIRead.py<br/>\n",
    "CreateWorldfile.py -p **w.sub_project_folder**<br/>                                           \n",
    "CreateFlowtable.py -p **w.sub_project_folder**<br/>\n",
    "RunLAIRead.py -p **w.sub_project_folder** <br/>\n",
    " \n",
    " \n",
    " \n"
   ]
  },
  {
   "cell_type": "code",
   "execution_count": null,
   "metadata": {
    "collapsed": false
   },
   "outputs": [],
   "source": [
    "print(w.sub_project_folder)\n",
    "output = w.RunLAIRead(w.sub_project_folder)\n",
    "print(output)"
   ]
  },
  {
   "cell_type": "markdown",
   "metadata": {},
   "source": [
    "output = w.CreateWorldfile(w.sub_project_folder)"
   ]
  },
  {
   "cell_type": "markdown",
   "metadata": {},
   "source": [
    "## Step 18 Creating a RHESSys TEC file\n",
    "We need one more thing before we can run our model, a TEC file. TEC stands for \"temporal event controller\". We use a TEC file to tell RHESSys to do things on at certain times during a simulation."
   ]
  },
  {
   "cell_type": "code",
   "execution_count": null,
   "metadata": {
    "collapsed": false
   },
   "outputs": [],
   "source": [
    "w.RunCmd(w.sub_project_folder, 3)"
   ]
  },
  {
   "cell_type": "markdown",
   "metadata": {},
   "source": [
    "## Step 19 Running RHESSys models\n",
    "Once you have built a RHESSys model using RHESSysWorkflows, you are free to run your model manually. However this will not capture information about model runs in your project metadata. If you would like to record your runs in your project metadata, use the **RunModel** command.\n",
    "\n",
    "\n",
    "Because the project metadata knows where RHESSys is installed in your project directory, you don't have to specify the full path of any of the RHESSys input files (e.g. world files, flow tables, TEC files, etc), you only need to specify the filenames. RunModel will echo RHESSys console outlet to the screen (if the -v or verbose option is specified as above), and will always save the same output into a file named 'rhessys.out' stored in the output folder for each model run. The output folder will be named based on the value you provide for the '-pre' or output prefix option. Model output is stored in the output directory of the rhessys directory of your project directory.\n",
    "\n",
    "For more details on using RunModel see the RHESSysWorkflows [tutorial](https://github.com/selimnairb/RHESSysWorkflows#running-rhessys-models). <br/>\n",
    "<br/>\n",
    "## Depending on your simulation period, this step will take awhile.\n",
    "\n"
   ]
  },
  {
   "cell_type": "code",
   "execution_count": null,
   "metadata": {
    "collapsed": false
   },
   "outputs": [],
   "source": [
    "#options = \" -p \" + w.sub_project_folder + \" -c dr5_composite3\"\n",
    "runmodel_options = \" -p \" + w.sub_project_folder + ' -d \\\"Test model run\\\" --basin -pre test -st 2008 1 1 1 -ed 2010 1 1 1 -w world_init -t tec_daily.txt -r world.flow -- -s 0.07041256017 133.552915269 1.81282283058 -sv 4.12459677088 78.3440566535 -gw 0.00736592779294 0.340346799457'\n",
    "\n",
    "w.RunModelOptions(runmodel_options)"
   ]
  },
  {
   "cell_type": "markdown",
   "metadata": {
    "collapsed": true
   },
   "source": [
    "## Resources\n",
    "\n",
    "* RHESSys\n",
    "  * [Setup](http://fiesta.bren.ucsb.edu/~rhessys/setup/setup.html)\n",
    "  * [Wiki](http://fiesta.bren.ucsb.edu/~rhessys/)\n",
    "* Data\n",
    "  * [HydroShare](https://www.hydroshare.org/)\n",
    "  * [USGS Data and Tools](https://www.usgs.gov/products/data-and-tools/data-and-tools-topics)\n",
    "  * [USDA Data gateway](https://gdg.sc.egov.usda.gov/)\n",
    "  * [HydroTerre](http://hydroterre.psu.edu/)\n",
    "  "
   ]
  },
  {
   "cell_type": "markdown",
   "metadata": {},
   "source": [
    "## Funding\n",
    "This work was supported by the following NSF grants\n",
    "\n",
    "    Award no. 1239678 EAGER: Collaborative Research: Interoperability Testbed-Assessing a Layered Architecture for Integration of Existing Capabilities\n",
    "\n",
    "    Award no. 0940841 DataNet Federation Consortium.\n",
    "\n",
    "    Award no. 1148090 Collaborative Research: SI2-SSI: An Interactive Software Infrastructure for Sustaining Collaborative Innovation in the Hydrologic Sciences\n",
    "\n"
   ]
  },
  {
   "cell_type": "markdown",
   "metadata": {},
   "source": [
    "## Credits\n",
    "\n",
    "**Lawrence E. Band** lband@email.unc.edu <br/>\n",
    "**Brian Miles** brian_miles@unc.edu <br/> \n",
    "**Laurence Lin** laurence.lin@icloud.com <br/>\n",
    "**John Duncan** jon.m.duncan@gmail.com <br/>\n",
    "**Lorne Leonard** lnl3@psu.edu <br/>\n"
   ]
  },
  {
   "cell_type": "code",
   "execution_count": null,
   "metadata": {
    "collapsed": true
   },
   "outputs": [],
   "source": []
  }
 ],
 "metadata": {
  "kernelspec": {
   "display_name": "Python 2",
   "language": "python",
   "name": "python2"
  },
  "language_info": {
   "codemirror_mode": {
    "name": "ipython",
    "version": 2
   },
   "file_extension": ".py",
   "mimetype": "text/x-python",
   "name": "python",
   "nbconvert_exporter": "python",
   "pygments_lexer": "ipython2",
   "version": "2.7.12"
  }
 },
 "nbformat": 4,
 "nbformat_minor": 0
}
